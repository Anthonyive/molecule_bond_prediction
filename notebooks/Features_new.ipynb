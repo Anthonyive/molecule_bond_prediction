{
 "cells": [
  {
   "cell_type": "markdown",
   "metadata": {},
   "source": [
    "## Imports"
   ]
  },
  {
   "cell_type": "code",
   "execution_count": 2,
   "metadata": {},
   "outputs": [],
   "source": [
    "# Data handling\n",
    "import pandas as pd\n",
    "import numpy as np\n",
    "import networkx as nx\n",
    "\n",
    "# Machine Learning\n",
    "from sklearn.ensemble import RandomForestRegressor, GradientBoostingRegressor\n",
    "from sklearn.model_selection import train_test_split\n",
    "from sklearn.model_selection import cross_validate, KFold\n",
    "from sklearn.preprocessing import LabelEncoder, StandardScaler\n",
    "from sklearn.metrics import make_scorer, mean_absolute_error\n",
    "from sklearn.pipeline import Pipeline\n",
    "from sklearn.decomposition import PCA\n",
    "from xgboost import XGBRegressor\n",
    "import giotto as gio\n",
    "import giotto.time_series as ts\n",
    "import giotto.graphs as gr\n",
    "import giotto.diagrams as diag\n",
    "import giotto.homology as hl\n",
    "\n",
    "# Plotting functions\n",
    "import matplotlib.pyplot as plt\n",
    "import seaborn as sns\n",
    "from plotting import plot_diagram, plot_landscapes\n",
    "from plotting import plot_betti_surfaces, plot_betti_curves\n",
    "from plotting import plot_point_cloud\n",
    "from xgboost import plot_importance\n",
    "\n",
    "# Others\n",
    "import os, sys\n",
    "sys.path.append('..')\n",
    "from itertools import product\n",
    "import time\n",
    "from dataset_creation import *\n",
    "import pickle"
   ]
  },
  {
   "cell_type": "code",
   "execution_count": 117,
   "metadata": {},
   "outputs": [],
   "source": [
    "import plotly.graph_objs as go\n",
    "from plotly.offline import init_notebook_mode, iplot\n",
    "from sympy.geometry import Point3D\n",
    "\n",
    "\n",
    "\n",
    "def plot_molecule(molecule_name, structures_df):\n",
    "    #from here: https://www.kaggle.com/mykolazotko/3d-visualization-of-molecules-with-plotly\n",
    "    \"\"\"Creates a 3D plot of the molecule\"\"\"\n",
    "    \n",
    "    atomic_radii = dict(C=0.77, F=0.71, H=0.38, N=0.75, O=0.73)  \n",
    "    cpk_colors = dict(C='black', F='green', H='white', N='blue', O='red')\n",
    "\n",
    "    molecule = structures_df[structures_df.molecule_name == molecule_name]\n",
    "    coordinates = molecule[['x', 'y', 'z']].values\n",
    "    x_coordinates = coordinates[:, 0]\n",
    "    y_coordinates = coordinates[:, 1]\n",
    "    z_coordinates = coordinates[:, 2]\n",
    "    elements = molecule.atom.tolist()\n",
    "    radii = [atomic_radii[element] for element in elements]\n",
    "    \n",
    "    def get_bonds():\n",
    "        \"\"\"Generates a set of bonds from atomic cartesian coordinates\"\"\"\n",
    "        ids = np.arange(coordinates.shape[0])\n",
    "        bonds = dict()\n",
    "        coordinates_compare, radii_compare, ids_compare = coordinates, radii, ids\n",
    "        \n",
    "        for _ in range(len(ids)):\n",
    "            coordinates_compare = np.roll(coordinates_compare, -1, axis=0)\n",
    "            radii_compare = np.roll(radii_compare, -1, axis=0)\n",
    "            ids_compare = np.roll(ids_compare, -1, axis=0)\n",
    "            distances = np.linalg.norm(coordinates - coordinates_compare, axis=1)\n",
    "            bond_distances = (radii + radii_compare) * 1.3\n",
    "            mask = np.logical_and(distances > 0.1, distances <  bond_distances)\n",
    "            distances = distances.round(2)\n",
    "            new_bonds = {frozenset([i, j]): dist for i, j, dist in zip(ids[mask], ids_compare[mask], distances[mask])}\n",
    "            bonds.update(new_bonds)\n",
    "        return bonds            \n",
    "            \n",
    "    def atom_trace():\n",
    "        \"\"\"Creates an atom trace for the plot\"\"\"\n",
    "        colors = [cpk_colors[element] for element in elements]\n",
    "        markers = dict(color=colors, line=dict(color='lightgray', width=2), size=7, symbol='circle', opacity=0.8)\n",
    "        trace = go.Scatter3d(x=x_coordinates, y=y_coordinates, z=z_coordinates, mode='markers', marker=markers,\n",
    "                             text=elements, name='')\n",
    "        return trace\n",
    "\n",
    "    def bond_trace():\n",
    "        \"\"\"\"Creates a bond trace for the plot\"\"\"\n",
    "        trace = go.Scatter3d(x=[], y=[], z=[], hoverinfo='none', mode='lines',\n",
    "                             marker=dict(color='grey', size=7, opacity=1))\n",
    "        for i, j in bonds.keys():\n",
    "            trace['x'] += (x_coordinates[i], x_coordinates[j], None)\n",
    "            trace['y'] += (y_coordinates[i], y_coordinates[j], None)\n",
    "            trace['z'] += (z_coordinates[i], z_coordinates[j], None)\n",
    "        return trace\n",
    "    \n",
    "    bonds = get_bonds()\n",
    "    \n",
    "    zipped = zip(range(len(elements)), x_coordinates, y_coordinates, z_coordinates)\n",
    "    annotations_id = [dict(text=num, x=x, y=y, z=z, showarrow=False, yshift=15, font = dict(color = \"blue\"))\n",
    "                   for num, x, y, z in zipped]\n",
    "    \n",
    "    annotations_length = []\n",
    "    for (i, j), dist in bonds.items():\n",
    "        p_i, p_j = Point3D(coordinates[i]), Point3D(coordinates[j])\n",
    "        p = p_i.midpoint(p_j)\n",
    "        annotation = dict(text=dist, x=float(p.x), y=float(p.y), z=float(p.z), showarrow=False, yshift=15)\n",
    "        annotations_length.append(annotation)   \n",
    "    \n",
    "    updatemenus = list([\n",
    "        dict(buttons=list([\n",
    "                 dict(label = 'Atom indices',\n",
    "                      method = 'relayout',\n",
    "                      args = [{'scene.annotations': annotations_id}]),\n",
    "                 dict(label = 'Bond lengths',\n",
    "                      method = 'relayout',\n",
    "                      args = [{'scene.annotations': annotations_length}]),\n",
    "                 dict(label = 'Atom indices & Bond lengths',\n",
    "                      method = 'relayout',\n",
    "                      args = [{'scene.annotations': annotations_id + annotations_length}]),\n",
    "                 dict(label = 'Hide all',\n",
    "                      method = 'relayout',\n",
    "                      args = [{'scene.annotations': []}])\n",
    "                 ]),\n",
    "                 direction='down',\n",
    "                 xanchor = 'left',\n",
    "                 yanchor = 'top'\n",
    "            ),        \n",
    "    ])\n",
    "    \n",
    "    data = [atom_trace(), bond_trace()]\n",
    "    axis_params = dict(showgrid=False, showbackground=False, showticklabels=False, zeroline=False, titlefont=dict(color='white'))\n",
    "    layout = dict(scene=dict(xaxis=axis_params, yaxis=axis_params, zaxis=axis_params, annotations=annotations_id), \n",
    "                  margin=dict(r=0, l=0, b=0, t=0), showlegend=True, updatemenus=updatemenus)\n",
    "\n",
    "    fig = go.Figure(data=data, layout=layout)\n",
    "    iplot(fig)"
   ]
  },
  {
   "cell_type": "code",
   "execution_count": 201,
   "metadata": {},
   "outputs": [],
   "source": [
    "import plotly.graph_objs as go\n",
    "from sympy.geometry import Point3D\n",
    "\n",
    "def my_plot_molecule(molecule_name, structures_df):\n",
    "    radius = dict(C=0.77, F=0.71, H=0.38, N=0.75, O=0.73)\n",
    "    element_colors = dict(C='black', F='green', H='white', N='blue', O='red')\n",
    "    \n",
    "    molecule_df = structures_df[structures_df['molecule_name'] == molecule_name]\n",
    "    x = molecule_df['x'].values\n",
    "    y = molecule_df['y'].values\n",
    "    z = molecule_df['z'].values\n",
    "    elements = molecule_df['atom'].values\n",
    "    r = [radius[e] for e in elements]\n",
    "    coordinates = pd.DataFrame([x,y,z]).T\n",
    "    \n",
    "    def get_bonds():\n",
    "        \"\"\"Generates a set of bonds from atomic cartesian coordinates\"\"\"\n",
    "        ids = np.arange(coordinates.shape[0])\n",
    "        bonds = dict()\n",
    "        coordinates_compare, radii_compare, ids_compare = coordinates, r, ids\n",
    "        \n",
    "        for _ in range(len(ids)):\n",
    "            coordinates_compare = np.roll(coordinates_compare, -1, axis=0)\n",
    "            radii_compare = np.roll(radii_compare, -1, axis=0)\n",
    "            ids_compare = np.roll(ids_compare, -1, axis=0)\n",
    "            distances = np.linalg.norm(coordinates - coordinates_compare, axis=1)\n",
    "            bond_distances = (r + radii_compare) * 1.3\n",
    "            mask = np.logical_and(distances > 0.1, distances <  bond_distances)\n",
    "            distances = distances.round(2)\n",
    "            new_bonds = {frozenset([i, j]): dist for i, j, dist in zip(ids[mask], ids_compare[mask], distances[mask])}\n",
    "            bonds.update(new_bonds)\n",
    "        return bonds       \n",
    "    \n",
    "    def get_bond_trace():\n",
    "        bond_trace = go.Scatter3d(x=[], y=[], z=[], hoverinfo='none', mode='lines',\n",
    "                             marker=dict(color='grey', size=7, opacity=1))\n",
    "        for i,j in bonds.keys():\n",
    "            bond_trace['x'] += (x[i], x[j], None)\n",
    "            bond_trace['y'] += (y[i], y[j], None)\n",
    "            bond_trace['z'] += (z[i], z[j], None)\n",
    "        return bond_trace\n",
    "    \n",
    "    def get_atom_trace():\n",
    "        \"\"\"Creates an atom trace for the plot\"\"\"\n",
    "        colors = [element_colors[element] for element in elements]\n",
    "        markers = dict(color=colors, line=dict(color='lightgray', width=2), size=10, symbol='circle', opacity=0.8)\n",
    "        trace = go.Scatter3d(x=x, y=y, z=z, mode='markers', marker=markers,\n",
    "                             text=elements, name='', hoverlabel=dict(bgcolor=colors))\n",
    "        return trace\n",
    "    \n",
    "    bonds = get_bonds()\n",
    "    annotations_length = []\n",
    "    for (i, j), dist in bonds.items():\n",
    "        p_i, p_j = Point3D(coordinates.values[i]), Point3D(coordinates.values[j])\n",
    "        p = p_i.midpoint(p_j)\n",
    "        annotation = dict(text=dist, x=float(p.x), y=float(p.y), z=float(p.z), showarrow=False, yshift=15)\n",
    "        annotations_length.append(annotation) \n",
    "    data = [get_atom_trace(), get_bond_trace()]\n",
    "    \n",
    "    axis_params = dict(showgrid=False, showbackground=False, showticklabels=False, zeroline=False, \n",
    "                       titlefont=dict(color='white'))\n",
    "    layout = dict(scene=dict(xaxis=axis_params, yaxis=axis_params, zaxis=axis_params), \n",
    "                  margin=dict(r=0, l=0, b=0, t=0), showlegend=False, annotations=[\n",
    "                        go.layout.Annotation(\n",
    "                            text='Molecule Name:<br>{}'.format(molecule_name),\n",
    "                            align='left',\n",
    "                            showarrow=False,\n",
    "                            xref='paper',\n",
    "                            yref='paper',\n",
    "                            x=0.95,\n",
    "                            y=0.95,\n",
    "                            bordercolor='black',\n",
    "                            borderwidth=1\n",
    "                        )\n",
    "                    ])\n",
    "    \n",
    "    fig = go.Figure(data=data, layout=layout)\n",
    "    \n",
    "    return fig"
   ]
  },
  {
   "cell_type": "code",
   "execution_count": 200,
   "metadata": {
    "scrolled": false
   },
   "outputs": [
    {
     "data": {
      "application/vnd.plotly.v1+json": {
       "config": {
        "linkText": "Export to plot.ly",
        "plotlyServerURL": "https://plot.ly",
        "showLink": false
       },
       "data": [
        {
         "marker": {
          "color": [
           "black",
           "red",
           "white",
           "white",
           "white",
           "white"
          ],
          "line": {
           "color": "lightgray",
           "width": 2
          },
          "opacity": 0.8,
          "size": 7,
          "symbol": "circle"
         },
         "mode": "markers",
         "name": "",
         "text": [
          "C",
          "O",
          "H",
          "H",
          "H",
          "H"
         ],
         "type": "scatter3d",
         "x": [
          -0.0082881667,
          -0.007970381300000001,
          1.006583385,
          -0.5465747513,
          -0.5228887142,
          0.4414201887
         ],
         "y": [
          1.390469779,
          -0.0250453723,
          1.8155636590000002,
          1.799169746,
          1.725552403,
          -0.33354425460000003
         ],
         "z": [
          -0.0056006901,
          0.0203060595,
          0.0034833514,
          -0.8739012576999999,
          0.8990732631999999,
          -0.7715205863
         ]
        },
        {
         "hoverinfo": "none",
         "marker": {
          "color": "grey",
          "opacity": 1,
          "size": 7
         },
         "mode": "lines",
         "type": "scatter3d",
         "x": [
          -0.0082881667,
          -0.007970381300000001,
          null,
          -0.0082881667,
          1.006583385,
          null,
          -0.0082881667,
          -0.5228887142,
          null,
          -0.007970381300000001,
          0.4414201887,
          null,
          -0.0082881667,
          -0.5465747513,
          null
         ],
         "y": [
          1.390469779,
          -0.0250453723,
          null,
          1.390469779,
          1.8155636590000002,
          null,
          1.390469779,
          1.725552403,
          null,
          -0.0250453723,
          -0.33354425460000003,
          null,
          1.390469779,
          1.799169746,
          null
         ],
         "z": [
          -0.0056006901,
          0.0203060595,
          null,
          -0.0056006901,
          0.0034833514,
          null,
          -0.0056006901,
          0.8990732631999999,
          null,
          0.0203060595,
          -0.7715205863,
          null,
          -0.0056006901,
          -0.8739012576999999,
          null
         ]
        }
       ],
       "layout": {
        "margin": {
         "b": 0,
         "l": 0,
         "r": 0,
         "t": 0
        },
        "scene": {
         "annotations": [
          {
           "font": {
            "color": "blue"
           },
           "showarrow": false,
           "text": "0",
           "x": -0.0082881667,
           "y": 1.390469779,
           "yshift": 15,
           "z": -0.0056006901
          },
          {
           "font": {
            "color": "blue"
           },
           "showarrow": false,
           "text": "1",
           "x": -0.007970381300000001,
           "y": -0.0250453723,
           "yshift": 15,
           "z": 0.0203060595
          },
          {
           "font": {
            "color": "blue"
           },
           "showarrow": false,
           "text": "2",
           "x": 1.006583385,
           "y": 1.8155636590000002,
           "yshift": 15,
           "z": 0.0034833514
          },
          {
           "font": {
            "color": "blue"
           },
           "showarrow": false,
           "text": "3",
           "x": -0.5465747513,
           "y": 1.799169746,
           "yshift": 15,
           "z": -0.8739012576999999
          },
          {
           "font": {
            "color": "blue"
           },
           "showarrow": false,
           "text": "4",
           "x": -0.5228887142,
           "y": 1.725552403,
           "yshift": 15,
           "z": 0.8990732631999999
          },
          {
           "font": {
            "color": "blue"
           },
           "showarrow": false,
           "text": "5",
           "x": 0.4414201887,
           "y": -0.33354425460000003,
           "yshift": 15,
           "z": -0.7715205863
          }
         ],
         "xaxis": {
          "showbackground": false,
          "showgrid": false,
          "showticklabels": false,
          "title": {
           "font": {
            "color": "white"
           }
          },
          "zeroline": false
         },
         "yaxis": {
          "showbackground": false,
          "showgrid": false,
          "showticklabels": false,
          "title": {
           "font": {
            "color": "white"
           }
          },
          "zeroline": false
         },
         "zaxis": {
          "showbackground": false,
          "showgrid": false,
          "showticklabels": false,
          "title": {
           "font": {
            "color": "white"
           }
          },
          "zeroline": false
         }
        },
        "showlegend": true,
        "template": {
         "data": {
          "bar": [
           {
            "error_x": {
             "color": "#2a3f5f"
            },
            "error_y": {
             "color": "#2a3f5f"
            },
            "marker": {
             "line": {
              "color": "#E5ECF6",
              "width": 0.5
             }
            },
            "type": "bar"
           }
          ],
          "barpolar": [
           {
            "marker": {
             "line": {
              "color": "#E5ECF6",
              "width": 0.5
             }
            },
            "type": "barpolar"
           }
          ],
          "carpet": [
           {
            "aaxis": {
             "endlinecolor": "#2a3f5f",
             "gridcolor": "white",
             "linecolor": "white",
             "minorgridcolor": "white",
             "startlinecolor": "#2a3f5f"
            },
            "baxis": {
             "endlinecolor": "#2a3f5f",
             "gridcolor": "white",
             "linecolor": "white",
             "minorgridcolor": "white",
             "startlinecolor": "#2a3f5f"
            },
            "type": "carpet"
           }
          ],
          "choropleth": [
           {
            "colorbar": {
             "outlinewidth": 0,
             "ticks": ""
            },
            "type": "choropleth"
           }
          ],
          "contour": [
           {
            "colorbar": {
             "outlinewidth": 0,
             "ticks": ""
            },
            "colorscale": [
             [
              0,
              "#0d0887"
             ],
             [
              0.1111111111111111,
              "#46039f"
             ],
             [
              0.2222222222222222,
              "#7201a8"
             ],
             [
              0.3333333333333333,
              "#9c179e"
             ],
             [
              0.4444444444444444,
              "#bd3786"
             ],
             [
              0.5555555555555556,
              "#d8576b"
             ],
             [
              0.6666666666666666,
              "#ed7953"
             ],
             [
              0.7777777777777778,
              "#fb9f3a"
             ],
             [
              0.8888888888888888,
              "#fdca26"
             ],
             [
              1,
              "#f0f921"
             ]
            ],
            "type": "contour"
           }
          ],
          "contourcarpet": [
           {
            "colorbar": {
             "outlinewidth": 0,
             "ticks": ""
            },
            "type": "contourcarpet"
           }
          ],
          "heatmap": [
           {
            "colorbar": {
             "outlinewidth": 0,
             "ticks": ""
            },
            "colorscale": [
             [
              0,
              "#0d0887"
             ],
             [
              0.1111111111111111,
              "#46039f"
             ],
             [
              0.2222222222222222,
              "#7201a8"
             ],
             [
              0.3333333333333333,
              "#9c179e"
             ],
             [
              0.4444444444444444,
              "#bd3786"
             ],
             [
              0.5555555555555556,
              "#d8576b"
             ],
             [
              0.6666666666666666,
              "#ed7953"
             ],
             [
              0.7777777777777778,
              "#fb9f3a"
             ],
             [
              0.8888888888888888,
              "#fdca26"
             ],
             [
              1,
              "#f0f921"
             ]
            ],
            "type": "heatmap"
           }
          ],
          "heatmapgl": [
           {
            "colorbar": {
             "outlinewidth": 0,
             "ticks": ""
            },
            "colorscale": [
             [
              0,
              "#0d0887"
             ],
             [
              0.1111111111111111,
              "#46039f"
             ],
             [
              0.2222222222222222,
              "#7201a8"
             ],
             [
              0.3333333333333333,
              "#9c179e"
             ],
             [
              0.4444444444444444,
              "#bd3786"
             ],
             [
              0.5555555555555556,
              "#d8576b"
             ],
             [
              0.6666666666666666,
              "#ed7953"
             ],
             [
              0.7777777777777778,
              "#fb9f3a"
             ],
             [
              0.8888888888888888,
              "#fdca26"
             ],
             [
              1,
              "#f0f921"
             ]
            ],
            "type": "heatmapgl"
           }
          ],
          "histogram": [
           {
            "marker": {
             "colorbar": {
              "outlinewidth": 0,
              "ticks": ""
             }
            },
            "type": "histogram"
           }
          ],
          "histogram2d": [
           {
            "colorbar": {
             "outlinewidth": 0,
             "ticks": ""
            },
            "colorscale": [
             [
              0,
              "#0d0887"
             ],
             [
              0.1111111111111111,
              "#46039f"
             ],
             [
              0.2222222222222222,
              "#7201a8"
             ],
             [
              0.3333333333333333,
              "#9c179e"
             ],
             [
              0.4444444444444444,
              "#bd3786"
             ],
             [
              0.5555555555555556,
              "#d8576b"
             ],
             [
              0.6666666666666666,
              "#ed7953"
             ],
             [
              0.7777777777777778,
              "#fb9f3a"
             ],
             [
              0.8888888888888888,
              "#fdca26"
             ],
             [
              1,
              "#f0f921"
             ]
            ],
            "type": "histogram2d"
           }
          ],
          "histogram2dcontour": [
           {
            "colorbar": {
             "outlinewidth": 0,
             "ticks": ""
            },
            "colorscale": [
             [
              0,
              "#0d0887"
             ],
             [
              0.1111111111111111,
              "#46039f"
             ],
             [
              0.2222222222222222,
              "#7201a8"
             ],
             [
              0.3333333333333333,
              "#9c179e"
             ],
             [
              0.4444444444444444,
              "#bd3786"
             ],
             [
              0.5555555555555556,
              "#d8576b"
             ],
             [
              0.6666666666666666,
              "#ed7953"
             ],
             [
              0.7777777777777778,
              "#fb9f3a"
             ],
             [
              0.8888888888888888,
              "#fdca26"
             ],
             [
              1,
              "#f0f921"
             ]
            ],
            "type": "histogram2dcontour"
           }
          ],
          "mesh3d": [
           {
            "colorbar": {
             "outlinewidth": 0,
             "ticks": ""
            },
            "type": "mesh3d"
           }
          ],
          "parcoords": [
           {
            "line": {
             "colorbar": {
              "outlinewidth": 0,
              "ticks": ""
             }
            },
            "type": "parcoords"
           }
          ],
          "scatter": [
           {
            "marker": {
             "colorbar": {
              "outlinewidth": 0,
              "ticks": ""
             }
            },
            "type": "scatter"
           }
          ],
          "scatter3d": [
           {
            "line": {
             "colorbar": {
              "outlinewidth": 0,
              "ticks": ""
             }
            },
            "marker": {
             "colorbar": {
              "outlinewidth": 0,
              "ticks": ""
             }
            },
            "type": "scatter3d"
           }
          ],
          "scattercarpet": [
           {
            "marker": {
             "colorbar": {
              "outlinewidth": 0,
              "ticks": ""
             }
            },
            "type": "scattercarpet"
           }
          ],
          "scattergeo": [
           {
            "marker": {
             "colorbar": {
              "outlinewidth": 0,
              "ticks": ""
             }
            },
            "type": "scattergeo"
           }
          ],
          "scattergl": [
           {
            "marker": {
             "colorbar": {
              "outlinewidth": 0,
              "ticks": ""
             }
            },
            "type": "scattergl"
           }
          ],
          "scattermapbox": [
           {
            "marker": {
             "colorbar": {
              "outlinewidth": 0,
              "ticks": ""
             }
            },
            "type": "scattermapbox"
           }
          ],
          "scatterpolar": [
           {
            "marker": {
             "colorbar": {
              "outlinewidth": 0,
              "ticks": ""
             }
            },
            "type": "scatterpolar"
           }
          ],
          "scatterpolargl": [
           {
            "marker": {
             "colorbar": {
              "outlinewidth": 0,
              "ticks": ""
             }
            },
            "type": "scatterpolargl"
           }
          ],
          "scatterternary": [
           {
            "marker": {
             "colorbar": {
              "outlinewidth": 0,
              "ticks": ""
             }
            },
            "type": "scatterternary"
           }
          ],
          "surface": [
           {
            "colorbar": {
             "outlinewidth": 0,
             "ticks": ""
            },
            "colorscale": [
             [
              0,
              "#0d0887"
             ],
             [
              0.1111111111111111,
              "#46039f"
             ],
             [
              0.2222222222222222,
              "#7201a8"
             ],
             [
              0.3333333333333333,
              "#9c179e"
             ],
             [
              0.4444444444444444,
              "#bd3786"
             ],
             [
              0.5555555555555556,
              "#d8576b"
             ],
             [
              0.6666666666666666,
              "#ed7953"
             ],
             [
              0.7777777777777778,
              "#fb9f3a"
             ],
             [
              0.8888888888888888,
              "#fdca26"
             ],
             [
              1,
              "#f0f921"
             ]
            ],
            "type": "surface"
           }
          ],
          "table": [
           {
            "cells": {
             "fill": {
              "color": "#EBF0F8"
             },
             "line": {
              "color": "white"
             }
            },
            "header": {
             "fill": {
              "color": "#C8D4E3"
             },
             "line": {
              "color": "white"
             }
            },
            "type": "table"
           }
          ]
         },
         "layout": {
          "annotationdefaults": {
           "arrowcolor": "#2a3f5f",
           "arrowhead": 0,
           "arrowwidth": 1
          },
          "colorscale": {
           "diverging": [
            [
             0,
             "#8e0152"
            ],
            [
             0.1,
             "#c51b7d"
            ],
            [
             0.2,
             "#de77ae"
            ],
            [
             0.3,
             "#f1b6da"
            ],
            [
             0.4,
             "#fde0ef"
            ],
            [
             0.5,
             "#f7f7f7"
            ],
            [
             0.6,
             "#e6f5d0"
            ],
            [
             0.7,
             "#b8e186"
            ],
            [
             0.8,
             "#7fbc41"
            ],
            [
             0.9,
             "#4d9221"
            ],
            [
             1,
             "#276419"
            ]
           ],
           "sequential": [
            [
             0,
             "#0d0887"
            ],
            [
             0.1111111111111111,
             "#46039f"
            ],
            [
             0.2222222222222222,
             "#7201a8"
            ],
            [
             0.3333333333333333,
             "#9c179e"
            ],
            [
             0.4444444444444444,
             "#bd3786"
            ],
            [
             0.5555555555555556,
             "#d8576b"
            ],
            [
             0.6666666666666666,
             "#ed7953"
            ],
            [
             0.7777777777777778,
             "#fb9f3a"
            ],
            [
             0.8888888888888888,
             "#fdca26"
            ],
            [
             1,
             "#f0f921"
            ]
           ],
           "sequentialminus": [
            [
             0,
             "#0d0887"
            ],
            [
             0.1111111111111111,
             "#46039f"
            ],
            [
             0.2222222222222222,
             "#7201a8"
            ],
            [
             0.3333333333333333,
             "#9c179e"
            ],
            [
             0.4444444444444444,
             "#bd3786"
            ],
            [
             0.5555555555555556,
             "#d8576b"
            ],
            [
             0.6666666666666666,
             "#ed7953"
            ],
            [
             0.7777777777777778,
             "#fb9f3a"
            ],
            [
             0.8888888888888888,
             "#fdca26"
            ],
            [
             1,
             "#f0f921"
            ]
           ]
          },
          "colorway": [
           "#636efa",
           "#EF553B",
           "#00cc96",
           "#ab63fa",
           "#FFA15A",
           "#19d3f3",
           "#FF6692",
           "#B6E880",
           "#FF97FF",
           "#FECB52"
          ],
          "font": {
           "color": "#2a3f5f"
          },
          "geo": {
           "bgcolor": "white",
           "lakecolor": "white",
           "landcolor": "#E5ECF6",
           "showlakes": true,
           "showland": true,
           "subunitcolor": "white"
          },
          "hoverlabel": {
           "align": "left"
          },
          "hovermode": "closest",
          "mapbox": {
           "style": "light"
          },
          "paper_bgcolor": "white",
          "plot_bgcolor": "#E5ECF6",
          "polar": {
           "angularaxis": {
            "gridcolor": "white",
            "linecolor": "white",
            "ticks": ""
           },
           "bgcolor": "#E5ECF6",
           "radialaxis": {
            "gridcolor": "white",
            "linecolor": "white",
            "ticks": ""
           }
          },
          "scene": {
           "xaxis": {
            "backgroundcolor": "#E5ECF6",
            "gridcolor": "white",
            "gridwidth": 2,
            "linecolor": "white",
            "showbackground": true,
            "ticks": "",
            "zerolinecolor": "white"
           },
           "yaxis": {
            "backgroundcolor": "#E5ECF6",
            "gridcolor": "white",
            "gridwidth": 2,
            "linecolor": "white",
            "showbackground": true,
            "ticks": "",
            "zerolinecolor": "white"
           },
           "zaxis": {
            "backgroundcolor": "#E5ECF6",
            "gridcolor": "white",
            "gridwidth": 2,
            "linecolor": "white",
            "showbackground": true,
            "ticks": "",
            "zerolinecolor": "white"
           }
          },
          "shapedefaults": {
           "line": {
            "color": "#2a3f5f"
           }
          },
          "ternary": {
           "aaxis": {
            "gridcolor": "white",
            "linecolor": "white",
            "ticks": ""
           },
           "baxis": {
            "gridcolor": "white",
            "linecolor": "white",
            "ticks": ""
           },
           "bgcolor": "#E5ECF6",
           "caxis": {
            "gridcolor": "white",
            "linecolor": "white",
            "ticks": ""
           }
          },
          "title": {
           "x": 0.05
          },
          "xaxis": {
           "automargin": true,
           "gridcolor": "white",
           "linecolor": "white",
           "ticks": "",
           "zerolinecolor": "white",
           "zerolinewidth": 2
          },
          "yaxis": {
           "automargin": true,
           "gridcolor": "white",
           "linecolor": "white",
           "ticks": "",
           "zerolinecolor": "white",
           "zerolinewidth": 2
          }
         }
        },
        "updatemenus": [
         {
          "buttons": [
           {
            "args": [
             {
              "scene.annotations": [
               {
                "font": {
                 "color": "blue"
                },
                "showarrow": false,
                "text": 0,
                "x": -0.0082881667,
                "y": 1.390469779,
                "yshift": 15,
                "z": -0.0056006901
               },
               {
                "font": {
                 "color": "blue"
                },
                "showarrow": false,
                "text": 1,
                "x": -0.007970381300000001,
                "y": -0.0250453723,
                "yshift": 15,
                "z": 0.0203060595
               },
               {
                "font": {
                 "color": "blue"
                },
                "showarrow": false,
                "text": 2,
                "x": 1.006583385,
                "y": 1.8155636590000002,
                "yshift": 15,
                "z": 0.0034833514
               },
               {
                "font": {
                 "color": "blue"
                },
                "showarrow": false,
                "text": 3,
                "x": -0.5465747513,
                "y": 1.799169746,
                "yshift": 15,
                "z": -0.8739012576999999
               },
               {
                "font": {
                 "color": "blue"
                },
                "showarrow": false,
                "text": 4,
                "x": -0.5228887142,
                "y": 1.725552403,
                "yshift": 15,
                "z": 0.8990732631999999
               },
               {
                "font": {
                 "color": "blue"
                },
                "showarrow": false,
                "text": 5,
                "x": 0.4414201887,
                "y": -0.33354425460000003,
                "yshift": 15,
                "z": -0.7715205863
               }
              ]
             }
            ],
            "label": "Atom indices",
            "method": "relayout"
           },
           {
            "args": [
             {
              "scene.annotations": [
               {
                "showarrow": false,
                "text": 1.42,
                "x": -0.008129274,
                "y": 0.68271220335,
                "yshift": 15,
                "z": 0.0073526847
               },
               {
                "showarrow": false,
                "text": 1.1,
                "x": 0.49914760915,
                "y": 1.603016719,
                "yshift": 15,
                "z": -0.00105866935
               },
               {
                "showarrow": false,
                "text": 1.09,
                "x": -0.26558844045,
                "y": 1.558011091,
                "yshift": 15,
                "z": 0.44673628655
               },
               {
                "showarrow": false,
                "text": 0.96,
                "x": 0.2167249037,
                "y": -0.17929481345,
                "yshift": 15,
                "z": -0.3756072634
               },
               {
                "showarrow": false,
                "text": 1.1,
                "x": -0.277431459,
                "y": 1.5948197625,
                "yshift": 15,
                "z": -0.4397509739
               }
              ]
             }
            ],
            "label": "Bond lengths",
            "method": "relayout"
           },
           {
            "args": [
             {
              "scene.annotations": [
               {
                "font": {
                 "color": "blue"
                },
                "showarrow": false,
                "text": 0,
                "x": -0.0082881667,
                "y": 1.390469779,
                "yshift": 15,
                "z": -0.0056006901
               },
               {
                "font": {
                 "color": "blue"
                },
                "showarrow": false,
                "text": 1,
                "x": -0.007970381300000001,
                "y": -0.0250453723,
                "yshift": 15,
                "z": 0.0203060595
               },
               {
                "font": {
                 "color": "blue"
                },
                "showarrow": false,
                "text": 2,
                "x": 1.006583385,
                "y": 1.8155636590000002,
                "yshift": 15,
                "z": 0.0034833514
               },
               {
                "font": {
                 "color": "blue"
                },
                "showarrow": false,
                "text": 3,
                "x": -0.5465747513,
                "y": 1.799169746,
                "yshift": 15,
                "z": -0.8739012576999999
               },
               {
                "font": {
                 "color": "blue"
                },
                "showarrow": false,
                "text": 4,
                "x": -0.5228887142,
                "y": 1.725552403,
                "yshift": 15,
                "z": 0.8990732631999999
               },
               {
                "font": {
                 "color": "blue"
                },
                "showarrow": false,
                "text": 5,
                "x": 0.4414201887,
                "y": -0.33354425460000003,
                "yshift": 15,
                "z": -0.7715205863
               },
               {
                "showarrow": false,
                "text": 1.42,
                "x": -0.008129274,
                "y": 0.68271220335,
                "yshift": 15,
                "z": 0.0073526847
               },
               {
                "showarrow": false,
                "text": 1.1,
                "x": 0.49914760915,
                "y": 1.603016719,
                "yshift": 15,
                "z": -0.00105866935
               },
               {
                "showarrow": false,
                "text": 1.09,
                "x": -0.26558844045,
                "y": 1.558011091,
                "yshift": 15,
                "z": 0.44673628655
               },
               {
                "showarrow": false,
                "text": 0.96,
                "x": 0.2167249037,
                "y": -0.17929481345,
                "yshift": 15,
                "z": -0.3756072634
               },
               {
                "showarrow": false,
                "text": 1.1,
                "x": -0.277431459,
                "y": 1.5948197625,
                "yshift": 15,
                "z": -0.4397509739
               }
              ]
             }
            ],
            "label": "Atom indices & Bond lengths",
            "method": "relayout"
           },
           {
            "args": [
             {
              "scene.annotations": []
             }
            ],
            "label": "Hide all",
            "method": "relayout"
           }
          ],
          "direction": "down",
          "xanchor": "left",
          "yanchor": "top"
         }
        ]
       }
      },
      "text/html": [
       "<div>\n",
       "        \n",
       "        \n",
       "            <div id=\"c5e23959-3211-4cdd-a9f4-47ddeb03853c\" class=\"plotly-graph-div\" style=\"height:525px; width:100%;\"></div>\n",
       "            <script type=\"text/javascript\">\n",
       "                require([\"plotly\"], function(Plotly) {\n",
       "                    window.PLOTLYENV=window.PLOTLYENV || {};\n",
       "                    \n",
       "                if (document.getElementById(\"c5e23959-3211-4cdd-a9f4-47ddeb03853c\")) {\n",
       "                    Plotly.newPlot(\n",
       "                        'c5e23959-3211-4cdd-a9f4-47ddeb03853c',\n",
       "                        [{\"marker\": {\"color\": [\"black\", \"red\", \"white\", \"white\", \"white\", \"white\"], \"line\": {\"color\": \"lightgray\", \"width\": 2}, \"opacity\": 0.8, \"size\": 7, \"symbol\": \"circle\"}, \"mode\": \"markers\", \"name\": \"\", \"text\": [\"C\", \"O\", \"H\", \"H\", \"H\", \"H\"], \"type\": \"scatter3d\", \"x\": [-0.0082881667, -0.007970381300000001, 1.006583385, -0.5465747513, -0.5228887142, 0.4414201887], \"y\": [1.390469779, -0.0250453723, 1.8155636590000002, 1.799169746, 1.725552403, -0.33354425460000003], \"z\": [-0.0056006901, 0.0203060595, 0.0034833514, -0.8739012576999999, 0.8990732631999999, -0.7715205863]}, {\"hoverinfo\": \"none\", \"marker\": {\"color\": \"grey\", \"opacity\": 1, \"size\": 7}, \"mode\": \"lines\", \"type\": \"scatter3d\", \"x\": [-0.0082881667, -0.007970381300000001, null, -0.0082881667, 1.006583385, null, -0.0082881667, -0.5228887142, null, -0.007970381300000001, 0.4414201887, null, -0.0082881667, -0.5465747513, null], \"y\": [1.390469779, -0.0250453723, null, 1.390469779, 1.8155636590000002, null, 1.390469779, 1.725552403, null, -0.0250453723, -0.33354425460000003, null, 1.390469779, 1.799169746, null], \"z\": [-0.0056006901, 0.0203060595, null, -0.0056006901, 0.0034833514, null, -0.0056006901, 0.8990732631999999, null, 0.0203060595, -0.7715205863, null, -0.0056006901, -0.8739012576999999, null]}],\n",
       "                        {\"margin\": {\"b\": 0, \"l\": 0, \"r\": 0, \"t\": 0}, \"scene\": {\"annotations\": [{\"font\": {\"color\": \"blue\"}, \"showarrow\": false, \"text\": \"0\", \"x\": -0.0082881667, \"y\": 1.390469779, \"yshift\": 15, \"z\": -0.0056006901}, {\"font\": {\"color\": \"blue\"}, \"showarrow\": false, \"text\": \"1\", \"x\": -0.007970381300000001, \"y\": -0.0250453723, \"yshift\": 15, \"z\": 0.0203060595}, {\"font\": {\"color\": \"blue\"}, \"showarrow\": false, \"text\": \"2\", \"x\": 1.006583385, \"y\": 1.8155636590000002, \"yshift\": 15, \"z\": 0.0034833514}, {\"font\": {\"color\": \"blue\"}, \"showarrow\": false, \"text\": \"3\", \"x\": -0.5465747513, \"y\": 1.799169746, \"yshift\": 15, \"z\": -0.8739012576999999}, {\"font\": {\"color\": \"blue\"}, \"showarrow\": false, \"text\": \"4\", \"x\": -0.5228887142, \"y\": 1.725552403, \"yshift\": 15, \"z\": 0.8990732631999999}, {\"font\": {\"color\": \"blue\"}, \"showarrow\": false, \"text\": \"5\", \"x\": 0.4414201887, \"y\": -0.33354425460000003, \"yshift\": 15, \"z\": -0.7715205863}], \"xaxis\": {\"showbackground\": false, \"showgrid\": false, \"showticklabels\": false, \"title\": {\"font\": {\"color\": \"white\"}}, \"zeroline\": false}, \"yaxis\": {\"showbackground\": false, \"showgrid\": false, \"showticklabels\": false, \"title\": {\"font\": {\"color\": \"white\"}}, \"zeroline\": false}, \"zaxis\": {\"showbackground\": false, \"showgrid\": false, \"showticklabels\": false, \"title\": {\"font\": {\"color\": \"white\"}}, \"zeroline\": false}}, \"showlegend\": true, \"template\": {\"data\": {\"bar\": [{\"error_x\": {\"color\": \"#2a3f5f\"}, \"error_y\": {\"color\": \"#2a3f5f\"}, \"marker\": {\"line\": {\"color\": \"#E5ECF6\", \"width\": 0.5}}, \"type\": \"bar\"}], \"barpolar\": [{\"marker\": {\"line\": {\"color\": \"#E5ECF6\", \"width\": 0.5}}, \"type\": \"barpolar\"}], \"carpet\": [{\"aaxis\": {\"endlinecolor\": \"#2a3f5f\", \"gridcolor\": \"white\", \"linecolor\": \"white\", \"minorgridcolor\": \"white\", \"startlinecolor\": \"#2a3f5f\"}, \"baxis\": {\"endlinecolor\": \"#2a3f5f\", \"gridcolor\": \"white\", \"linecolor\": \"white\", \"minorgridcolor\": \"white\", \"startlinecolor\": \"#2a3f5f\"}, \"type\": \"carpet\"}], \"choropleth\": [{\"colorbar\": {\"outlinewidth\": 0, \"ticks\": \"\"}, \"type\": \"choropleth\"}], \"contour\": [{\"colorbar\": {\"outlinewidth\": 0, \"ticks\": \"\"}, \"colorscale\": [[0.0, \"#0d0887\"], [0.1111111111111111, \"#46039f\"], [0.2222222222222222, \"#7201a8\"], [0.3333333333333333, \"#9c179e\"], [0.4444444444444444, \"#bd3786\"], [0.5555555555555556, \"#d8576b\"], [0.6666666666666666, \"#ed7953\"], [0.7777777777777778, \"#fb9f3a\"], [0.8888888888888888, \"#fdca26\"], [1.0, \"#f0f921\"]], \"type\": \"contour\"}], \"contourcarpet\": [{\"colorbar\": {\"outlinewidth\": 0, \"ticks\": \"\"}, \"type\": \"contourcarpet\"}], \"heatmap\": [{\"colorbar\": {\"outlinewidth\": 0, \"ticks\": \"\"}, \"colorscale\": [[0.0, \"#0d0887\"], [0.1111111111111111, \"#46039f\"], [0.2222222222222222, \"#7201a8\"], [0.3333333333333333, \"#9c179e\"], [0.4444444444444444, \"#bd3786\"], [0.5555555555555556, \"#d8576b\"], [0.6666666666666666, \"#ed7953\"], [0.7777777777777778, \"#fb9f3a\"], [0.8888888888888888, \"#fdca26\"], [1.0, \"#f0f921\"]], \"type\": \"heatmap\"}], \"heatmapgl\": [{\"colorbar\": {\"outlinewidth\": 0, \"ticks\": \"\"}, \"colorscale\": [[0.0, \"#0d0887\"], [0.1111111111111111, \"#46039f\"], [0.2222222222222222, \"#7201a8\"], [0.3333333333333333, \"#9c179e\"], [0.4444444444444444, \"#bd3786\"], [0.5555555555555556, \"#d8576b\"], [0.6666666666666666, \"#ed7953\"], [0.7777777777777778, \"#fb9f3a\"], [0.8888888888888888, \"#fdca26\"], [1.0, \"#f0f921\"]], \"type\": \"heatmapgl\"}], \"histogram\": [{\"marker\": {\"colorbar\": {\"outlinewidth\": 0, \"ticks\": \"\"}}, \"type\": \"histogram\"}], \"histogram2d\": [{\"colorbar\": {\"outlinewidth\": 0, \"ticks\": \"\"}, \"colorscale\": [[0.0, \"#0d0887\"], [0.1111111111111111, \"#46039f\"], [0.2222222222222222, \"#7201a8\"], [0.3333333333333333, \"#9c179e\"], [0.4444444444444444, \"#bd3786\"], [0.5555555555555556, \"#d8576b\"], [0.6666666666666666, \"#ed7953\"], [0.7777777777777778, \"#fb9f3a\"], [0.8888888888888888, \"#fdca26\"], [1.0, \"#f0f921\"]], \"type\": \"histogram2d\"}], \"histogram2dcontour\": [{\"colorbar\": {\"outlinewidth\": 0, \"ticks\": \"\"}, \"colorscale\": [[0.0, \"#0d0887\"], [0.1111111111111111, \"#46039f\"], [0.2222222222222222, \"#7201a8\"], [0.3333333333333333, \"#9c179e\"], [0.4444444444444444, \"#bd3786\"], [0.5555555555555556, \"#d8576b\"], [0.6666666666666666, \"#ed7953\"], [0.7777777777777778, \"#fb9f3a\"], [0.8888888888888888, \"#fdca26\"], [1.0, \"#f0f921\"]], \"type\": \"histogram2dcontour\"}], \"mesh3d\": [{\"colorbar\": {\"outlinewidth\": 0, \"ticks\": \"\"}, \"type\": \"mesh3d\"}], \"parcoords\": [{\"line\": {\"colorbar\": {\"outlinewidth\": 0, \"ticks\": \"\"}}, \"type\": \"parcoords\"}], \"scatter\": [{\"marker\": {\"colorbar\": {\"outlinewidth\": 0, \"ticks\": \"\"}}, \"type\": \"scatter\"}], \"scatter3d\": [{\"line\": {\"colorbar\": {\"outlinewidth\": 0, \"ticks\": \"\"}}, \"marker\": {\"colorbar\": {\"outlinewidth\": 0, \"ticks\": \"\"}}, \"type\": \"scatter3d\"}], \"scattercarpet\": [{\"marker\": {\"colorbar\": {\"outlinewidth\": 0, \"ticks\": \"\"}}, \"type\": \"scattercarpet\"}], \"scattergeo\": [{\"marker\": {\"colorbar\": {\"outlinewidth\": 0, \"ticks\": \"\"}}, \"type\": \"scattergeo\"}], \"scattergl\": [{\"marker\": {\"colorbar\": {\"outlinewidth\": 0, \"ticks\": \"\"}}, \"type\": \"scattergl\"}], \"scattermapbox\": [{\"marker\": {\"colorbar\": {\"outlinewidth\": 0, \"ticks\": \"\"}}, \"type\": \"scattermapbox\"}], \"scatterpolar\": [{\"marker\": {\"colorbar\": {\"outlinewidth\": 0, \"ticks\": \"\"}}, \"type\": \"scatterpolar\"}], \"scatterpolargl\": [{\"marker\": {\"colorbar\": {\"outlinewidth\": 0, \"ticks\": \"\"}}, \"type\": \"scatterpolargl\"}], \"scatterternary\": [{\"marker\": {\"colorbar\": {\"outlinewidth\": 0, \"ticks\": \"\"}}, \"type\": \"scatterternary\"}], \"surface\": [{\"colorbar\": {\"outlinewidth\": 0, \"ticks\": \"\"}, \"colorscale\": [[0.0, \"#0d0887\"], [0.1111111111111111, \"#46039f\"], [0.2222222222222222, \"#7201a8\"], [0.3333333333333333, \"#9c179e\"], [0.4444444444444444, \"#bd3786\"], [0.5555555555555556, \"#d8576b\"], [0.6666666666666666, \"#ed7953\"], [0.7777777777777778, \"#fb9f3a\"], [0.8888888888888888, \"#fdca26\"], [1.0, \"#f0f921\"]], \"type\": \"surface\"}], \"table\": [{\"cells\": {\"fill\": {\"color\": \"#EBF0F8\"}, \"line\": {\"color\": \"white\"}}, \"header\": {\"fill\": {\"color\": \"#C8D4E3\"}, \"line\": {\"color\": \"white\"}}, \"type\": \"table\"}]}, \"layout\": {\"annotationdefaults\": {\"arrowcolor\": \"#2a3f5f\", \"arrowhead\": 0, \"arrowwidth\": 1}, \"colorscale\": {\"diverging\": [[0, \"#8e0152\"], [0.1, \"#c51b7d\"], [0.2, \"#de77ae\"], [0.3, \"#f1b6da\"], [0.4, \"#fde0ef\"], [0.5, \"#f7f7f7\"], [0.6, \"#e6f5d0\"], [0.7, \"#b8e186\"], [0.8, \"#7fbc41\"], [0.9, \"#4d9221\"], [1, \"#276419\"]], \"sequential\": [[0.0, \"#0d0887\"], [0.1111111111111111, \"#46039f\"], [0.2222222222222222, \"#7201a8\"], [0.3333333333333333, \"#9c179e\"], [0.4444444444444444, \"#bd3786\"], [0.5555555555555556, \"#d8576b\"], [0.6666666666666666, \"#ed7953\"], [0.7777777777777778, \"#fb9f3a\"], [0.8888888888888888, \"#fdca26\"], [1.0, \"#f0f921\"]], \"sequentialminus\": [[0.0, \"#0d0887\"], [0.1111111111111111, \"#46039f\"], [0.2222222222222222, \"#7201a8\"], [0.3333333333333333, \"#9c179e\"], [0.4444444444444444, \"#bd3786\"], [0.5555555555555556, \"#d8576b\"], [0.6666666666666666, \"#ed7953\"], [0.7777777777777778, \"#fb9f3a\"], [0.8888888888888888, \"#fdca26\"], [1.0, \"#f0f921\"]]}, \"colorway\": [\"#636efa\", \"#EF553B\", \"#00cc96\", \"#ab63fa\", \"#FFA15A\", \"#19d3f3\", \"#FF6692\", \"#B6E880\", \"#FF97FF\", \"#FECB52\"], \"font\": {\"color\": \"#2a3f5f\"}, \"geo\": {\"bgcolor\": \"white\", \"lakecolor\": \"white\", \"landcolor\": \"#E5ECF6\", \"showlakes\": true, \"showland\": true, \"subunitcolor\": \"white\"}, \"hoverlabel\": {\"align\": \"left\"}, \"hovermode\": \"closest\", \"mapbox\": {\"style\": \"light\"}, \"paper_bgcolor\": \"white\", \"plot_bgcolor\": \"#E5ECF6\", \"polar\": {\"angularaxis\": {\"gridcolor\": \"white\", \"linecolor\": \"white\", \"ticks\": \"\"}, \"bgcolor\": \"#E5ECF6\", \"radialaxis\": {\"gridcolor\": \"white\", \"linecolor\": \"white\", \"ticks\": \"\"}}, \"scene\": {\"xaxis\": {\"backgroundcolor\": \"#E5ECF6\", \"gridcolor\": \"white\", \"gridwidth\": 2, \"linecolor\": \"white\", \"showbackground\": true, \"ticks\": \"\", \"zerolinecolor\": \"white\"}, \"yaxis\": {\"backgroundcolor\": \"#E5ECF6\", \"gridcolor\": \"white\", \"gridwidth\": 2, \"linecolor\": \"white\", \"showbackground\": true, \"ticks\": \"\", \"zerolinecolor\": \"white\"}, \"zaxis\": {\"backgroundcolor\": \"#E5ECF6\", \"gridcolor\": \"white\", \"gridwidth\": 2, \"linecolor\": \"white\", \"showbackground\": true, \"ticks\": \"\", \"zerolinecolor\": \"white\"}}, \"shapedefaults\": {\"line\": {\"color\": \"#2a3f5f\"}}, \"ternary\": {\"aaxis\": {\"gridcolor\": \"white\", \"linecolor\": \"white\", \"ticks\": \"\"}, \"baxis\": {\"gridcolor\": \"white\", \"linecolor\": \"white\", \"ticks\": \"\"}, \"bgcolor\": \"#E5ECF6\", \"caxis\": {\"gridcolor\": \"white\", \"linecolor\": \"white\", \"ticks\": \"\"}}, \"title\": {\"x\": 0.05}, \"xaxis\": {\"automargin\": true, \"gridcolor\": \"white\", \"linecolor\": \"white\", \"ticks\": \"\", \"zerolinecolor\": \"white\", \"zerolinewidth\": 2}, \"yaxis\": {\"automargin\": true, \"gridcolor\": \"white\", \"linecolor\": \"white\", \"ticks\": \"\", \"zerolinecolor\": \"white\", \"zerolinewidth\": 2}}}, \"updatemenus\": [{\"buttons\": [{\"args\": [{\"scene.annotations\": [{\"font\": {\"color\": \"blue\"}, \"showarrow\": false, \"text\": 0, \"x\": -0.0082881667, \"y\": 1.390469779, \"yshift\": 15, \"z\": -0.0056006901}, {\"font\": {\"color\": \"blue\"}, \"showarrow\": false, \"text\": 1, \"x\": -0.007970381300000001, \"y\": -0.0250453723, \"yshift\": 15, \"z\": 0.0203060595}, {\"font\": {\"color\": \"blue\"}, \"showarrow\": false, \"text\": 2, \"x\": 1.006583385, \"y\": 1.8155636590000002, \"yshift\": 15, \"z\": 0.0034833514}, {\"font\": {\"color\": \"blue\"}, \"showarrow\": false, \"text\": 3, \"x\": -0.5465747513, \"y\": 1.799169746, \"yshift\": 15, \"z\": -0.8739012576999999}, {\"font\": {\"color\": \"blue\"}, \"showarrow\": false, \"text\": 4, \"x\": -0.5228887142, \"y\": 1.725552403, \"yshift\": 15, \"z\": 0.8990732631999999}, {\"font\": {\"color\": \"blue\"}, \"showarrow\": false, \"text\": 5, \"x\": 0.4414201887, \"y\": -0.33354425460000003, \"yshift\": 15, \"z\": -0.7715205863}]}], \"label\": \"Atom indices\", \"method\": \"relayout\"}, {\"args\": [{\"scene.annotations\": [{\"showarrow\": false, \"text\": 1.42, \"x\": -0.008129274, \"y\": 0.68271220335, \"yshift\": 15, \"z\": 0.0073526847}, {\"showarrow\": false, \"text\": 1.1, \"x\": 0.49914760915, \"y\": 1.603016719, \"yshift\": 15, \"z\": -0.00105866935}, {\"showarrow\": false, \"text\": 1.09, \"x\": -0.26558844045, \"y\": 1.558011091, \"yshift\": 15, \"z\": 0.44673628655}, {\"showarrow\": false, \"text\": 0.96, \"x\": 0.2167249037, \"y\": -0.17929481345, \"yshift\": 15, \"z\": -0.3756072634}, {\"showarrow\": false, \"text\": 1.1, \"x\": -0.277431459, \"y\": 1.5948197625, \"yshift\": 15, \"z\": -0.4397509739}]}], \"label\": \"Bond lengths\", \"method\": \"relayout\"}, {\"args\": [{\"scene.annotations\": [{\"font\": {\"color\": \"blue\"}, \"showarrow\": false, \"text\": 0, \"x\": -0.0082881667, \"y\": 1.390469779, \"yshift\": 15, \"z\": -0.0056006901}, {\"font\": {\"color\": \"blue\"}, \"showarrow\": false, \"text\": 1, \"x\": -0.007970381300000001, \"y\": -0.0250453723, \"yshift\": 15, \"z\": 0.0203060595}, {\"font\": {\"color\": \"blue\"}, \"showarrow\": false, \"text\": 2, \"x\": 1.006583385, \"y\": 1.8155636590000002, \"yshift\": 15, \"z\": 0.0034833514}, {\"font\": {\"color\": \"blue\"}, \"showarrow\": false, \"text\": 3, \"x\": -0.5465747513, \"y\": 1.799169746, \"yshift\": 15, \"z\": -0.8739012576999999}, {\"font\": {\"color\": \"blue\"}, \"showarrow\": false, \"text\": 4, \"x\": -0.5228887142, \"y\": 1.725552403, \"yshift\": 15, \"z\": 0.8990732631999999}, {\"font\": {\"color\": \"blue\"}, \"showarrow\": false, \"text\": 5, \"x\": 0.4414201887, \"y\": -0.33354425460000003, \"yshift\": 15, \"z\": -0.7715205863}, {\"showarrow\": false, \"text\": 1.42, \"x\": -0.008129274, \"y\": 0.68271220335, \"yshift\": 15, \"z\": 0.0073526847}, {\"showarrow\": false, \"text\": 1.1, \"x\": 0.49914760915, \"y\": 1.603016719, \"yshift\": 15, \"z\": -0.00105866935}, {\"showarrow\": false, \"text\": 1.09, \"x\": -0.26558844045, \"y\": 1.558011091, \"yshift\": 15, \"z\": 0.44673628655}, {\"showarrow\": false, \"text\": 0.96, \"x\": 0.2167249037, \"y\": -0.17929481345, \"yshift\": 15, \"z\": -0.3756072634}, {\"showarrow\": false, \"text\": 1.1, \"x\": -0.277431459, \"y\": 1.5948197625, \"yshift\": 15, \"z\": -0.4397509739}]}], \"label\": \"Atom indices & Bond lengths\", \"method\": \"relayout\"}, {\"args\": [{\"scene.annotations\": []}], \"label\": \"Hide all\", \"method\": \"relayout\"}], \"direction\": \"down\", \"xanchor\": \"left\", \"yanchor\": \"top\"}]},\n",
       "                        {\"responsive\": true}\n",
       "                    ).then(function(){\n",
       "                            \n",
       "var gd = document.getElementById('c5e23959-3211-4cdd-a9f4-47ddeb03853c');\n",
       "var x = new MutationObserver(function (mutations, observer) {{\n",
       "        var display = window.getComputedStyle(gd).display;\n",
       "        if (!display || display === 'none') {{\n",
       "            console.log([gd, 'removed!']);\n",
       "            Plotly.purge(gd);\n",
       "            observer.disconnect();\n",
       "        }}\n",
       "}});\n",
       "\n",
       "// Listen for the removal of the full notebook cells\n",
       "var notebookContainer = gd.closest('#notebook-container');\n",
       "if (notebookContainer) {{\n",
       "    x.observe(notebookContainer, {childList: true});\n",
       "}}\n",
       "\n",
       "// Listen for the clearing of the current output cell\n",
       "var outputEl = gd.closest('.output');\n",
       "if (outputEl) {{\n",
       "    x.observe(outputEl, {childList: true});\n",
       "}}\n",
       "\n",
       "                        })\n",
       "                };\n",
       "                });\n",
       "            </script>\n",
       "        </div>"
      ]
     },
     "metadata": {},
     "output_type": "display_data"
    },
    {
     "data": {
      "application/vnd.plotly.v1+json": {
       "config": {
        "plotlyServerURL": "https://plot.ly"
       },
       "data": [
        {
         "hoverlabel": {
          "bgcolor": [
           "black",
           "black",
           "red",
           "black",
           "black",
           "black",
           "white",
           "white",
           "white",
           "white",
           "white",
           "white",
           "white",
           "white",
           "white",
           "white"
          ]
         },
         "marker": {
          "color": [
           "black",
           "black",
           "red",
           "black",
           "black",
           "black",
           "white",
           "white",
           "white",
           "white",
           "white",
           "white",
           "white",
           "white",
           "white",
           "white"
          ],
          "line": {
           "color": "lightgray",
           "width": 2
          },
          "opacity": 0.8,
          "size": 10,
          "symbol": "circle"
         },
         "mode": "markers",
         "name": "",
         "text": [
          "C",
          "C",
          "O",
          "C",
          "C",
          "C",
          "H",
          "H",
          "H",
          "H",
          "H",
          "H",
          "H",
          "H",
          "H",
          "H"
         ],
         "type": "scatter3d",
         "x": [
          -0.0256668068,
          -0.0019588955999999998,
          1.250086027,
          0.6358939149,
          1.3873066930000002,
          0.101599317,
          0.8124800756999999,
          0.0263477113,
          -0.9594669693000001,
          -0.8394700820000001,
          1.80347348,
          0.7308098512000001,
          2.217514279,
          0.9196775951,
          -0.607822018,
          -0.4025709332
         ],
         "y": [
          1.52996963,
          0.039086544300000005,
          -0.6391041536,
          -0.6592839179,
          0.0802845316,
          -2.015487965,
          2.033139381,
          1.748361708,
          1.957596539,
          -0.48458705539999997,
          1.022203936,
          0.2895210584,
          -0.5348191706000001,
          -2.663831879,
          -1.920613616,
          -2.50619346
         ],
         "z": [
          -0.1374145538,
          0.08552893980000001,
          -0.08252012660000001,
          1.219748104,
          2.3056844930000002,
          1.633110689,
          0.3475569586,
          -1.2094552090000001,
          0.2442552437,
          -0.38374687329999996,
          1.946480185,
          3.15750725,
          2.6701469159999998,
          1.966212406,
          2.462630355,
          0.7970437022
         ]
        },
        {
         "hoverinfo": "none",
         "marker": {
          "color": "grey",
          "opacity": 1,
          "size": 7
         },
         "mode": "lines",
         "type": "scatter3d",
         "x": [
          -0.0256668068,
          -0.0019588955999999998,
          null,
          -0.0019588955999999998,
          1.250086027,
          null,
          1.250086027,
          0.6358939149,
          null,
          0.6358939149,
          1.3873066930000002,
          null,
          -0.0019588955999999998,
          0.6358939149,
          null,
          0.6358939149,
          0.101599317,
          null,
          -0.0256668068,
          0.8124800756999999,
          null,
          1.80347348,
          1.3873066930000002,
          null,
          0.101599317,
          -0.4025709332,
          null,
          -0.0256668068,
          0.0263477113,
          null,
          0.7308098512000001,
          1.3873066930000002,
          null,
          0.101599317,
          -0.607822018,
          null,
          -0.0256668068,
          -0.9594669693000001,
          null,
          -0.0019588955999999998,
          -0.8394700820000001,
          null,
          1.3873066930000002,
          2.217514279,
          null,
          0.9196775951,
          0.101599317,
          null
         ],
         "y": [
          1.52996963,
          0.039086544300000005,
          null,
          0.039086544300000005,
          -0.6391041536,
          null,
          -0.6391041536,
          -0.6592839179,
          null,
          -0.6592839179,
          0.0802845316,
          null,
          0.039086544300000005,
          -0.6592839179,
          null,
          -0.6592839179,
          -2.015487965,
          null,
          1.52996963,
          2.033139381,
          null,
          1.022203936,
          0.0802845316,
          null,
          -2.015487965,
          -2.50619346,
          null,
          1.52996963,
          1.748361708,
          null,
          0.2895210584,
          0.0802845316,
          null,
          -2.015487965,
          -1.920613616,
          null,
          1.52996963,
          1.957596539,
          null,
          0.039086544300000005,
          -0.48458705539999997,
          null,
          0.0802845316,
          -0.5348191706000001,
          null,
          -2.663831879,
          -2.015487965,
          null
         ],
         "z": [
          -0.1374145538,
          0.08552893980000001,
          null,
          0.08552893980000001,
          -0.08252012660000001,
          null,
          -0.08252012660000001,
          1.219748104,
          null,
          1.219748104,
          2.3056844930000002,
          null,
          0.08552893980000001,
          1.219748104,
          null,
          1.219748104,
          1.633110689,
          null,
          -0.1374145538,
          0.3475569586,
          null,
          1.946480185,
          2.3056844930000002,
          null,
          1.633110689,
          0.7970437022,
          null,
          -0.1374145538,
          -1.2094552090000001,
          null,
          3.15750725,
          2.3056844930000002,
          null,
          1.633110689,
          2.462630355,
          null,
          -0.1374145538,
          0.2442552437,
          null,
          0.08552893980000001,
          -0.38374687329999996,
          null,
          2.3056844930000002,
          2.6701469159999998,
          null,
          1.966212406,
          1.633110689,
          null
         ]
        }
       ],
       "layout": {
        "annotations": [
         {
          "align": "left",
          "bordercolor": "black",
          "borderwidth": 1,
          "showarrow": false,
          "text": "Molecule Name:<br>dsgdb9nsd_000303",
          "x": 0.95,
          "xref": "paper",
          "y": 0.95,
          "yref": "paper"
         }
        ],
        "margin": {
         "b": 0,
         "l": 0,
         "r": 0,
         "t": 0
        },
        "scene": {
         "xaxis": {
          "showbackground": false,
          "showgrid": false,
          "showticklabels": false,
          "title": {
           "font": {
            "color": "white"
           }
          },
          "zeroline": false
         },
         "yaxis": {
          "showbackground": false,
          "showgrid": false,
          "showticklabels": false,
          "title": {
           "font": {
            "color": "white"
           }
          },
          "zeroline": false
         },
         "zaxis": {
          "showbackground": false,
          "showgrid": false,
          "showticklabels": false,
          "title": {
           "font": {
            "color": "white"
           }
          },
          "zeroline": false
         }
        },
        "showlegend": false,
        "template": {
         "data": {
          "bar": [
           {
            "error_x": {
             "color": "#2a3f5f"
            },
            "error_y": {
             "color": "#2a3f5f"
            },
            "marker": {
             "line": {
              "color": "#E5ECF6",
              "width": 0.5
             }
            },
            "type": "bar"
           }
          ],
          "barpolar": [
           {
            "marker": {
             "line": {
              "color": "#E5ECF6",
              "width": 0.5
             }
            },
            "type": "barpolar"
           }
          ],
          "carpet": [
           {
            "aaxis": {
             "endlinecolor": "#2a3f5f",
             "gridcolor": "white",
             "linecolor": "white",
             "minorgridcolor": "white",
             "startlinecolor": "#2a3f5f"
            },
            "baxis": {
             "endlinecolor": "#2a3f5f",
             "gridcolor": "white",
             "linecolor": "white",
             "minorgridcolor": "white",
             "startlinecolor": "#2a3f5f"
            },
            "type": "carpet"
           }
          ],
          "choropleth": [
           {
            "colorbar": {
             "outlinewidth": 0,
             "ticks": ""
            },
            "type": "choropleth"
           }
          ],
          "contour": [
           {
            "colorbar": {
             "outlinewidth": 0,
             "ticks": ""
            },
            "colorscale": [
             [
              0,
              "#0d0887"
             ],
             [
              0.1111111111111111,
              "#46039f"
             ],
             [
              0.2222222222222222,
              "#7201a8"
             ],
             [
              0.3333333333333333,
              "#9c179e"
             ],
             [
              0.4444444444444444,
              "#bd3786"
             ],
             [
              0.5555555555555556,
              "#d8576b"
             ],
             [
              0.6666666666666666,
              "#ed7953"
             ],
             [
              0.7777777777777778,
              "#fb9f3a"
             ],
             [
              0.8888888888888888,
              "#fdca26"
             ],
             [
              1,
              "#f0f921"
             ]
            ],
            "type": "contour"
           }
          ],
          "contourcarpet": [
           {
            "colorbar": {
             "outlinewidth": 0,
             "ticks": ""
            },
            "type": "contourcarpet"
           }
          ],
          "heatmap": [
           {
            "colorbar": {
             "outlinewidth": 0,
             "ticks": ""
            },
            "colorscale": [
             [
              0,
              "#0d0887"
             ],
             [
              0.1111111111111111,
              "#46039f"
             ],
             [
              0.2222222222222222,
              "#7201a8"
             ],
             [
              0.3333333333333333,
              "#9c179e"
             ],
             [
              0.4444444444444444,
              "#bd3786"
             ],
             [
              0.5555555555555556,
              "#d8576b"
             ],
             [
              0.6666666666666666,
              "#ed7953"
             ],
             [
              0.7777777777777778,
              "#fb9f3a"
             ],
             [
              0.8888888888888888,
              "#fdca26"
             ],
             [
              1,
              "#f0f921"
             ]
            ],
            "type": "heatmap"
           }
          ],
          "heatmapgl": [
           {
            "colorbar": {
             "outlinewidth": 0,
             "ticks": ""
            },
            "colorscale": [
             [
              0,
              "#0d0887"
             ],
             [
              0.1111111111111111,
              "#46039f"
             ],
             [
              0.2222222222222222,
              "#7201a8"
             ],
             [
              0.3333333333333333,
              "#9c179e"
             ],
             [
              0.4444444444444444,
              "#bd3786"
             ],
             [
              0.5555555555555556,
              "#d8576b"
             ],
             [
              0.6666666666666666,
              "#ed7953"
             ],
             [
              0.7777777777777778,
              "#fb9f3a"
             ],
             [
              0.8888888888888888,
              "#fdca26"
             ],
             [
              1,
              "#f0f921"
             ]
            ],
            "type": "heatmapgl"
           }
          ],
          "histogram": [
           {
            "marker": {
             "colorbar": {
              "outlinewidth": 0,
              "ticks": ""
             }
            },
            "type": "histogram"
           }
          ],
          "histogram2d": [
           {
            "colorbar": {
             "outlinewidth": 0,
             "ticks": ""
            },
            "colorscale": [
             [
              0,
              "#0d0887"
             ],
             [
              0.1111111111111111,
              "#46039f"
             ],
             [
              0.2222222222222222,
              "#7201a8"
             ],
             [
              0.3333333333333333,
              "#9c179e"
             ],
             [
              0.4444444444444444,
              "#bd3786"
             ],
             [
              0.5555555555555556,
              "#d8576b"
             ],
             [
              0.6666666666666666,
              "#ed7953"
             ],
             [
              0.7777777777777778,
              "#fb9f3a"
             ],
             [
              0.8888888888888888,
              "#fdca26"
             ],
             [
              1,
              "#f0f921"
             ]
            ],
            "type": "histogram2d"
           }
          ],
          "histogram2dcontour": [
           {
            "colorbar": {
             "outlinewidth": 0,
             "ticks": ""
            },
            "colorscale": [
             [
              0,
              "#0d0887"
             ],
             [
              0.1111111111111111,
              "#46039f"
             ],
             [
              0.2222222222222222,
              "#7201a8"
             ],
             [
              0.3333333333333333,
              "#9c179e"
             ],
             [
              0.4444444444444444,
              "#bd3786"
             ],
             [
              0.5555555555555556,
              "#d8576b"
             ],
             [
              0.6666666666666666,
              "#ed7953"
             ],
             [
              0.7777777777777778,
              "#fb9f3a"
             ],
             [
              0.8888888888888888,
              "#fdca26"
             ],
             [
              1,
              "#f0f921"
             ]
            ],
            "type": "histogram2dcontour"
           }
          ],
          "mesh3d": [
           {
            "colorbar": {
             "outlinewidth": 0,
             "ticks": ""
            },
            "type": "mesh3d"
           }
          ],
          "parcoords": [
           {
            "line": {
             "colorbar": {
              "outlinewidth": 0,
              "ticks": ""
             }
            },
            "type": "parcoords"
           }
          ],
          "scatter": [
           {
            "marker": {
             "colorbar": {
              "outlinewidth": 0,
              "ticks": ""
             }
            },
            "type": "scatter"
           }
          ],
          "scatter3d": [
           {
            "line": {
             "colorbar": {
              "outlinewidth": 0,
              "ticks": ""
             }
            },
            "marker": {
             "colorbar": {
              "outlinewidth": 0,
              "ticks": ""
             }
            },
            "type": "scatter3d"
           }
          ],
          "scattercarpet": [
           {
            "marker": {
             "colorbar": {
              "outlinewidth": 0,
              "ticks": ""
             }
            },
            "type": "scattercarpet"
           }
          ],
          "scattergeo": [
           {
            "marker": {
             "colorbar": {
              "outlinewidth": 0,
              "ticks": ""
             }
            },
            "type": "scattergeo"
           }
          ],
          "scattergl": [
           {
            "marker": {
             "colorbar": {
              "outlinewidth": 0,
              "ticks": ""
             }
            },
            "type": "scattergl"
           }
          ],
          "scattermapbox": [
           {
            "marker": {
             "colorbar": {
              "outlinewidth": 0,
              "ticks": ""
             }
            },
            "type": "scattermapbox"
           }
          ],
          "scatterpolar": [
           {
            "marker": {
             "colorbar": {
              "outlinewidth": 0,
              "ticks": ""
             }
            },
            "type": "scatterpolar"
           }
          ],
          "scatterpolargl": [
           {
            "marker": {
             "colorbar": {
              "outlinewidth": 0,
              "ticks": ""
             }
            },
            "type": "scatterpolargl"
           }
          ],
          "scatterternary": [
           {
            "marker": {
             "colorbar": {
              "outlinewidth": 0,
              "ticks": ""
             }
            },
            "type": "scatterternary"
           }
          ],
          "surface": [
           {
            "colorbar": {
             "outlinewidth": 0,
             "ticks": ""
            },
            "colorscale": [
             [
              0,
              "#0d0887"
             ],
             [
              0.1111111111111111,
              "#46039f"
             ],
             [
              0.2222222222222222,
              "#7201a8"
             ],
             [
              0.3333333333333333,
              "#9c179e"
             ],
             [
              0.4444444444444444,
              "#bd3786"
             ],
             [
              0.5555555555555556,
              "#d8576b"
             ],
             [
              0.6666666666666666,
              "#ed7953"
             ],
             [
              0.7777777777777778,
              "#fb9f3a"
             ],
             [
              0.8888888888888888,
              "#fdca26"
             ],
             [
              1,
              "#f0f921"
             ]
            ],
            "type": "surface"
           }
          ],
          "table": [
           {
            "cells": {
             "fill": {
              "color": "#EBF0F8"
             },
             "line": {
              "color": "white"
             }
            },
            "header": {
             "fill": {
              "color": "#C8D4E3"
             },
             "line": {
              "color": "white"
             }
            },
            "type": "table"
           }
          ]
         },
         "layout": {
          "annotationdefaults": {
           "arrowcolor": "#2a3f5f",
           "arrowhead": 0,
           "arrowwidth": 1
          },
          "colorscale": {
           "diverging": [
            [
             0,
             "#8e0152"
            ],
            [
             0.1,
             "#c51b7d"
            ],
            [
             0.2,
             "#de77ae"
            ],
            [
             0.3,
             "#f1b6da"
            ],
            [
             0.4,
             "#fde0ef"
            ],
            [
             0.5,
             "#f7f7f7"
            ],
            [
             0.6,
             "#e6f5d0"
            ],
            [
             0.7,
             "#b8e186"
            ],
            [
             0.8,
             "#7fbc41"
            ],
            [
             0.9,
             "#4d9221"
            ],
            [
             1,
             "#276419"
            ]
           ],
           "sequential": [
            [
             0,
             "#0d0887"
            ],
            [
             0.1111111111111111,
             "#46039f"
            ],
            [
             0.2222222222222222,
             "#7201a8"
            ],
            [
             0.3333333333333333,
             "#9c179e"
            ],
            [
             0.4444444444444444,
             "#bd3786"
            ],
            [
             0.5555555555555556,
             "#d8576b"
            ],
            [
             0.6666666666666666,
             "#ed7953"
            ],
            [
             0.7777777777777778,
             "#fb9f3a"
            ],
            [
             0.8888888888888888,
             "#fdca26"
            ],
            [
             1,
             "#f0f921"
            ]
           ],
           "sequentialminus": [
            [
             0,
             "#0d0887"
            ],
            [
             0.1111111111111111,
             "#46039f"
            ],
            [
             0.2222222222222222,
             "#7201a8"
            ],
            [
             0.3333333333333333,
             "#9c179e"
            ],
            [
             0.4444444444444444,
             "#bd3786"
            ],
            [
             0.5555555555555556,
             "#d8576b"
            ],
            [
             0.6666666666666666,
             "#ed7953"
            ],
            [
             0.7777777777777778,
             "#fb9f3a"
            ],
            [
             0.8888888888888888,
             "#fdca26"
            ],
            [
             1,
             "#f0f921"
            ]
           ]
          },
          "colorway": [
           "#636efa",
           "#EF553B",
           "#00cc96",
           "#ab63fa",
           "#FFA15A",
           "#19d3f3",
           "#FF6692",
           "#B6E880",
           "#FF97FF",
           "#FECB52"
          ],
          "font": {
           "color": "#2a3f5f"
          },
          "geo": {
           "bgcolor": "white",
           "lakecolor": "white",
           "landcolor": "#E5ECF6",
           "showlakes": true,
           "showland": true,
           "subunitcolor": "white"
          },
          "hoverlabel": {
           "align": "left"
          },
          "hovermode": "closest",
          "mapbox": {
           "style": "light"
          },
          "paper_bgcolor": "white",
          "plot_bgcolor": "#E5ECF6",
          "polar": {
           "angularaxis": {
            "gridcolor": "white",
            "linecolor": "white",
            "ticks": ""
           },
           "bgcolor": "#E5ECF6",
           "radialaxis": {
            "gridcolor": "white",
            "linecolor": "white",
            "ticks": ""
           }
          },
          "scene": {
           "xaxis": {
            "backgroundcolor": "#E5ECF6",
            "gridcolor": "white",
            "gridwidth": 2,
            "linecolor": "white",
            "showbackground": true,
            "ticks": "",
            "zerolinecolor": "white"
           },
           "yaxis": {
            "backgroundcolor": "#E5ECF6",
            "gridcolor": "white",
            "gridwidth": 2,
            "linecolor": "white",
            "showbackground": true,
            "ticks": "",
            "zerolinecolor": "white"
           },
           "zaxis": {
            "backgroundcolor": "#E5ECF6",
            "gridcolor": "white",
            "gridwidth": 2,
            "linecolor": "white",
            "showbackground": true,
            "ticks": "",
            "zerolinecolor": "white"
           }
          },
          "shapedefaults": {
           "line": {
            "color": "#2a3f5f"
           }
          },
          "ternary": {
           "aaxis": {
            "gridcolor": "white",
            "linecolor": "white",
            "ticks": ""
           },
           "baxis": {
            "gridcolor": "white",
            "linecolor": "white",
            "ticks": ""
           },
           "bgcolor": "#E5ECF6",
           "caxis": {
            "gridcolor": "white",
            "linecolor": "white",
            "ticks": ""
           }
          },
          "title": {
           "x": 0.05
          },
          "xaxis": {
           "automargin": true,
           "gridcolor": "white",
           "linecolor": "white",
           "ticks": "",
           "zerolinecolor": "white",
           "zerolinewidth": 2
          },
          "yaxis": {
           "automargin": true,
           "gridcolor": "white",
           "linecolor": "white",
           "ticks": "",
           "zerolinecolor": "white",
           "zerolinewidth": 2
          }
         }
        }
       }
      },
      "text/html": [
       "<div>\n",
       "        \n",
       "        \n",
       "            <div id=\"134b4b67-8910-4aaa-a24f-c140b8ac98d5\" class=\"plotly-graph-div\" style=\"height:525px; width:100%;\"></div>\n",
       "            <script type=\"text/javascript\">\n",
       "                require([\"plotly\"], function(Plotly) {\n",
       "                    window.PLOTLYENV=window.PLOTLYENV || {};\n",
       "                    \n",
       "                if (document.getElementById(\"134b4b67-8910-4aaa-a24f-c140b8ac98d5\")) {\n",
       "                    Plotly.newPlot(\n",
       "                        '134b4b67-8910-4aaa-a24f-c140b8ac98d5',\n",
       "                        [{\"hoverlabel\": {\"bgcolor\": [\"black\", \"black\", \"red\", \"black\", \"black\", \"black\", \"white\", \"white\", \"white\", \"white\", \"white\", \"white\", \"white\", \"white\", \"white\", \"white\"]}, \"marker\": {\"color\": [\"black\", \"black\", \"red\", \"black\", \"black\", \"black\", \"white\", \"white\", \"white\", \"white\", \"white\", \"white\", \"white\", \"white\", \"white\", \"white\"], \"line\": {\"color\": \"lightgray\", \"width\": 2}, \"opacity\": 0.8, \"size\": 10, \"symbol\": \"circle\"}, \"mode\": \"markers\", \"name\": \"\", \"text\": [\"C\", \"C\", \"O\", \"C\", \"C\", \"C\", \"H\", \"H\", \"H\", \"H\", \"H\", \"H\", \"H\", \"H\", \"H\", \"H\"], \"type\": \"scatter3d\", \"x\": [-0.0256668068, -0.0019588955999999998, 1.250086027, 0.6358939149, 1.3873066930000002, 0.101599317, 0.8124800756999999, 0.0263477113, -0.9594669693000001, -0.8394700820000001, 1.80347348, 0.7308098512000001, 2.217514279, 0.9196775951, -0.607822018, -0.4025709332], \"y\": [1.52996963, 0.039086544300000005, -0.6391041536, -0.6592839179, 0.0802845316, -2.015487965, 2.033139381, 1.748361708, 1.957596539, -0.48458705539999997, 1.022203936, 0.2895210584, -0.5348191706000001, -2.663831879, -1.920613616, -2.50619346], \"z\": [-0.1374145538, 0.08552893980000001, -0.08252012660000001, 1.219748104, 2.3056844930000002, 1.633110689, 0.3475569586, -1.2094552090000001, 0.2442552437, -0.38374687329999996, 1.946480185, 3.15750725, 2.6701469159999998, 1.966212406, 2.462630355, 0.7970437022]}, {\"hoverinfo\": \"none\", \"marker\": {\"color\": \"grey\", \"opacity\": 1, \"size\": 7}, \"mode\": \"lines\", \"type\": \"scatter3d\", \"x\": [-0.0256668068, -0.0019588955999999998, null, -0.0019588955999999998, 1.250086027, null, 1.250086027, 0.6358939149, null, 0.6358939149, 1.3873066930000002, null, -0.0019588955999999998, 0.6358939149, null, 0.6358939149, 0.101599317, null, -0.0256668068, 0.8124800756999999, null, 1.80347348, 1.3873066930000002, null, 0.101599317, -0.4025709332, null, -0.0256668068, 0.0263477113, null, 0.7308098512000001, 1.3873066930000002, null, 0.101599317, -0.607822018, null, -0.0256668068, -0.9594669693000001, null, -0.0019588955999999998, -0.8394700820000001, null, 1.3873066930000002, 2.217514279, null, 0.9196775951, 0.101599317, null], \"y\": [1.52996963, 0.039086544300000005, null, 0.039086544300000005, -0.6391041536, null, -0.6391041536, -0.6592839179, null, -0.6592839179, 0.0802845316, null, 0.039086544300000005, -0.6592839179, null, -0.6592839179, -2.015487965, null, 1.52996963, 2.033139381, null, 1.022203936, 0.0802845316, null, -2.015487965, -2.50619346, null, 1.52996963, 1.748361708, null, 0.2895210584, 0.0802845316, null, -2.015487965, -1.920613616, null, 1.52996963, 1.957596539, null, 0.039086544300000005, -0.48458705539999997, null, 0.0802845316, -0.5348191706000001, null, -2.663831879, -2.015487965, null], \"z\": [-0.1374145538, 0.08552893980000001, null, 0.08552893980000001, -0.08252012660000001, null, -0.08252012660000001, 1.219748104, null, 1.219748104, 2.3056844930000002, null, 0.08552893980000001, 1.219748104, null, 1.219748104, 1.633110689, null, -0.1374145538, 0.3475569586, null, 1.946480185, 2.3056844930000002, null, 1.633110689, 0.7970437022, null, -0.1374145538, -1.2094552090000001, null, 3.15750725, 2.3056844930000002, null, 1.633110689, 2.462630355, null, -0.1374145538, 0.2442552437, null, 0.08552893980000001, -0.38374687329999996, null, 2.3056844930000002, 2.6701469159999998, null, 1.966212406, 1.633110689, null]}],\n",
       "                        {\"annotations\": [{\"align\": \"left\", \"bordercolor\": \"black\", \"borderwidth\": 1, \"showarrow\": false, \"text\": \"Molecule Name:<br>dsgdb9nsd_000303\", \"x\": 0.95, \"xref\": \"paper\", \"y\": 0.95, \"yref\": \"paper\"}], \"margin\": {\"b\": 0, \"l\": 0, \"r\": 0, \"t\": 0}, \"scene\": {\"xaxis\": {\"showbackground\": false, \"showgrid\": false, \"showticklabels\": false, \"title\": {\"font\": {\"color\": \"white\"}}, \"zeroline\": false}, \"yaxis\": {\"showbackground\": false, \"showgrid\": false, \"showticklabels\": false, \"title\": {\"font\": {\"color\": \"white\"}}, \"zeroline\": false}, \"zaxis\": {\"showbackground\": false, \"showgrid\": false, \"showticklabels\": false, \"title\": {\"font\": {\"color\": \"white\"}}, \"zeroline\": false}}, \"showlegend\": false, \"template\": {\"data\": {\"bar\": [{\"error_x\": {\"color\": \"#2a3f5f\"}, \"error_y\": {\"color\": \"#2a3f5f\"}, \"marker\": {\"line\": {\"color\": \"#E5ECF6\", \"width\": 0.5}}, \"type\": \"bar\"}], \"barpolar\": [{\"marker\": {\"line\": {\"color\": \"#E5ECF6\", \"width\": 0.5}}, \"type\": \"barpolar\"}], \"carpet\": [{\"aaxis\": {\"endlinecolor\": \"#2a3f5f\", \"gridcolor\": \"white\", \"linecolor\": \"white\", \"minorgridcolor\": \"white\", \"startlinecolor\": \"#2a3f5f\"}, \"baxis\": {\"endlinecolor\": \"#2a3f5f\", \"gridcolor\": \"white\", \"linecolor\": \"white\", \"minorgridcolor\": \"white\", \"startlinecolor\": \"#2a3f5f\"}, \"type\": \"carpet\"}], \"choropleth\": [{\"colorbar\": {\"outlinewidth\": 0, \"ticks\": \"\"}, \"type\": \"choropleth\"}], \"contour\": [{\"colorbar\": {\"outlinewidth\": 0, \"ticks\": \"\"}, \"colorscale\": [[0.0, \"#0d0887\"], [0.1111111111111111, \"#46039f\"], [0.2222222222222222, \"#7201a8\"], [0.3333333333333333, \"#9c179e\"], [0.4444444444444444, \"#bd3786\"], [0.5555555555555556, \"#d8576b\"], [0.6666666666666666, \"#ed7953\"], [0.7777777777777778, \"#fb9f3a\"], [0.8888888888888888, \"#fdca26\"], [1.0, \"#f0f921\"]], \"type\": \"contour\"}], \"contourcarpet\": [{\"colorbar\": {\"outlinewidth\": 0, \"ticks\": \"\"}, \"type\": \"contourcarpet\"}], \"heatmap\": [{\"colorbar\": {\"outlinewidth\": 0, \"ticks\": \"\"}, \"colorscale\": [[0.0, \"#0d0887\"], [0.1111111111111111, \"#46039f\"], [0.2222222222222222, \"#7201a8\"], [0.3333333333333333, \"#9c179e\"], [0.4444444444444444, \"#bd3786\"], [0.5555555555555556, \"#d8576b\"], [0.6666666666666666, \"#ed7953\"], [0.7777777777777778, \"#fb9f3a\"], [0.8888888888888888, \"#fdca26\"], [1.0, \"#f0f921\"]], \"type\": \"heatmap\"}], \"heatmapgl\": [{\"colorbar\": {\"outlinewidth\": 0, \"ticks\": \"\"}, \"colorscale\": [[0.0, \"#0d0887\"], [0.1111111111111111, \"#46039f\"], [0.2222222222222222, \"#7201a8\"], [0.3333333333333333, \"#9c179e\"], [0.4444444444444444, \"#bd3786\"], [0.5555555555555556, \"#d8576b\"], [0.6666666666666666, \"#ed7953\"], [0.7777777777777778, \"#fb9f3a\"], [0.8888888888888888, \"#fdca26\"], [1.0, \"#f0f921\"]], \"type\": \"heatmapgl\"}], \"histogram\": [{\"marker\": {\"colorbar\": {\"outlinewidth\": 0, \"ticks\": \"\"}}, \"type\": \"histogram\"}], \"histogram2d\": [{\"colorbar\": {\"outlinewidth\": 0, \"ticks\": \"\"}, \"colorscale\": [[0.0, \"#0d0887\"], [0.1111111111111111, \"#46039f\"], [0.2222222222222222, \"#7201a8\"], [0.3333333333333333, \"#9c179e\"], [0.4444444444444444, \"#bd3786\"], [0.5555555555555556, \"#d8576b\"], [0.6666666666666666, \"#ed7953\"], [0.7777777777777778, \"#fb9f3a\"], [0.8888888888888888, \"#fdca26\"], [1.0, \"#f0f921\"]], \"type\": \"histogram2d\"}], \"histogram2dcontour\": [{\"colorbar\": {\"outlinewidth\": 0, \"ticks\": \"\"}, \"colorscale\": [[0.0, \"#0d0887\"], [0.1111111111111111, \"#46039f\"], [0.2222222222222222, \"#7201a8\"], [0.3333333333333333, \"#9c179e\"], [0.4444444444444444, \"#bd3786\"], [0.5555555555555556, \"#d8576b\"], [0.6666666666666666, \"#ed7953\"], [0.7777777777777778, \"#fb9f3a\"], [0.8888888888888888, \"#fdca26\"], [1.0, \"#f0f921\"]], \"type\": \"histogram2dcontour\"}], \"mesh3d\": [{\"colorbar\": {\"outlinewidth\": 0, \"ticks\": \"\"}, \"type\": \"mesh3d\"}], \"parcoords\": [{\"line\": {\"colorbar\": {\"outlinewidth\": 0, \"ticks\": \"\"}}, \"type\": \"parcoords\"}], \"scatter\": [{\"marker\": {\"colorbar\": {\"outlinewidth\": 0, \"ticks\": \"\"}}, \"type\": \"scatter\"}], \"scatter3d\": [{\"line\": {\"colorbar\": {\"outlinewidth\": 0, \"ticks\": \"\"}}, \"marker\": {\"colorbar\": {\"outlinewidth\": 0, \"ticks\": \"\"}}, \"type\": \"scatter3d\"}], \"scattercarpet\": [{\"marker\": {\"colorbar\": {\"outlinewidth\": 0, \"ticks\": \"\"}}, \"type\": \"scattercarpet\"}], \"scattergeo\": [{\"marker\": {\"colorbar\": {\"outlinewidth\": 0, \"ticks\": \"\"}}, \"type\": \"scattergeo\"}], \"scattergl\": [{\"marker\": {\"colorbar\": {\"outlinewidth\": 0, \"ticks\": \"\"}}, \"type\": \"scattergl\"}], \"scattermapbox\": [{\"marker\": {\"colorbar\": {\"outlinewidth\": 0, \"ticks\": \"\"}}, \"type\": \"scattermapbox\"}], \"scatterpolar\": [{\"marker\": {\"colorbar\": {\"outlinewidth\": 0, \"ticks\": \"\"}}, \"type\": \"scatterpolar\"}], \"scatterpolargl\": [{\"marker\": {\"colorbar\": {\"outlinewidth\": 0, \"ticks\": \"\"}}, \"type\": \"scatterpolargl\"}], \"scatterternary\": [{\"marker\": {\"colorbar\": {\"outlinewidth\": 0, \"ticks\": \"\"}}, \"type\": \"scatterternary\"}], \"surface\": [{\"colorbar\": {\"outlinewidth\": 0, \"ticks\": \"\"}, \"colorscale\": [[0.0, \"#0d0887\"], [0.1111111111111111, \"#46039f\"], [0.2222222222222222, \"#7201a8\"], [0.3333333333333333, \"#9c179e\"], [0.4444444444444444, \"#bd3786\"], [0.5555555555555556, \"#d8576b\"], [0.6666666666666666, \"#ed7953\"], [0.7777777777777778, \"#fb9f3a\"], [0.8888888888888888, \"#fdca26\"], [1.0, \"#f0f921\"]], \"type\": \"surface\"}], \"table\": [{\"cells\": {\"fill\": {\"color\": \"#EBF0F8\"}, \"line\": {\"color\": \"white\"}}, \"header\": {\"fill\": {\"color\": \"#C8D4E3\"}, \"line\": {\"color\": \"white\"}}, \"type\": \"table\"}]}, \"layout\": {\"annotationdefaults\": {\"arrowcolor\": \"#2a3f5f\", \"arrowhead\": 0, \"arrowwidth\": 1}, \"colorscale\": {\"diverging\": [[0, \"#8e0152\"], [0.1, \"#c51b7d\"], [0.2, \"#de77ae\"], [0.3, \"#f1b6da\"], [0.4, \"#fde0ef\"], [0.5, \"#f7f7f7\"], [0.6, \"#e6f5d0\"], [0.7, \"#b8e186\"], [0.8, \"#7fbc41\"], [0.9, \"#4d9221\"], [1, \"#276419\"]], \"sequential\": [[0.0, \"#0d0887\"], [0.1111111111111111, \"#46039f\"], [0.2222222222222222, \"#7201a8\"], [0.3333333333333333, \"#9c179e\"], [0.4444444444444444, \"#bd3786\"], [0.5555555555555556, \"#d8576b\"], [0.6666666666666666, \"#ed7953\"], [0.7777777777777778, \"#fb9f3a\"], [0.8888888888888888, \"#fdca26\"], [1.0, \"#f0f921\"]], \"sequentialminus\": [[0.0, \"#0d0887\"], [0.1111111111111111, \"#46039f\"], [0.2222222222222222, \"#7201a8\"], [0.3333333333333333, \"#9c179e\"], [0.4444444444444444, \"#bd3786\"], [0.5555555555555556, \"#d8576b\"], [0.6666666666666666, \"#ed7953\"], [0.7777777777777778, \"#fb9f3a\"], [0.8888888888888888, \"#fdca26\"], [1.0, \"#f0f921\"]]}, \"colorway\": [\"#636efa\", \"#EF553B\", \"#00cc96\", \"#ab63fa\", \"#FFA15A\", \"#19d3f3\", \"#FF6692\", \"#B6E880\", \"#FF97FF\", \"#FECB52\"], \"font\": {\"color\": \"#2a3f5f\"}, \"geo\": {\"bgcolor\": \"white\", \"lakecolor\": \"white\", \"landcolor\": \"#E5ECF6\", \"showlakes\": true, \"showland\": true, \"subunitcolor\": \"white\"}, \"hoverlabel\": {\"align\": \"left\"}, \"hovermode\": \"closest\", \"mapbox\": {\"style\": \"light\"}, \"paper_bgcolor\": \"white\", \"plot_bgcolor\": \"#E5ECF6\", \"polar\": {\"angularaxis\": {\"gridcolor\": \"white\", \"linecolor\": \"white\", \"ticks\": \"\"}, \"bgcolor\": \"#E5ECF6\", \"radialaxis\": {\"gridcolor\": \"white\", \"linecolor\": \"white\", \"ticks\": \"\"}}, \"scene\": {\"xaxis\": {\"backgroundcolor\": \"#E5ECF6\", \"gridcolor\": \"white\", \"gridwidth\": 2, \"linecolor\": \"white\", \"showbackground\": true, \"ticks\": \"\", \"zerolinecolor\": \"white\"}, \"yaxis\": {\"backgroundcolor\": \"#E5ECF6\", \"gridcolor\": \"white\", \"gridwidth\": 2, \"linecolor\": \"white\", \"showbackground\": true, \"ticks\": \"\", \"zerolinecolor\": \"white\"}, \"zaxis\": {\"backgroundcolor\": \"#E5ECF6\", \"gridcolor\": \"white\", \"gridwidth\": 2, \"linecolor\": \"white\", \"showbackground\": true, \"ticks\": \"\", \"zerolinecolor\": \"white\"}}, \"shapedefaults\": {\"line\": {\"color\": \"#2a3f5f\"}}, \"ternary\": {\"aaxis\": {\"gridcolor\": \"white\", \"linecolor\": \"white\", \"ticks\": \"\"}, \"baxis\": {\"gridcolor\": \"white\", \"linecolor\": \"white\", \"ticks\": \"\"}, \"bgcolor\": \"#E5ECF6\", \"caxis\": {\"gridcolor\": \"white\", \"linecolor\": \"white\", \"ticks\": \"\"}}, \"title\": {\"x\": 0.05}, \"xaxis\": {\"automargin\": true, \"gridcolor\": \"white\", \"linecolor\": \"white\", \"ticks\": \"\", \"zerolinecolor\": \"white\", \"zerolinewidth\": 2}, \"yaxis\": {\"automargin\": true, \"gridcolor\": \"white\", \"linecolor\": \"white\", \"ticks\": \"\", \"zerolinecolor\": \"white\", \"zerolinewidth\": 2}}}},\n",
       "                        {\"responsive\": true}\n",
       "                    ).then(function(){\n",
       "                            \n",
       "var gd = document.getElementById('134b4b67-8910-4aaa-a24f-c140b8ac98d5');\n",
       "var x = new MutationObserver(function (mutations, observer) {{\n",
       "        var display = window.getComputedStyle(gd).display;\n",
       "        if (!display || display === 'none') {{\n",
       "            console.log([gd, 'removed!']);\n",
       "            Plotly.purge(gd);\n",
       "            observer.disconnect();\n",
       "        }}\n",
       "}});\n",
       "\n",
       "// Listen for the removal of the full notebook cells\n",
       "var notebookContainer = gd.closest('#notebook-container');\n",
       "if (notebookContainer) {{\n",
       "    x.observe(notebookContainer, {childList: true});\n",
       "}}\n",
       "\n",
       "// Listen for the clearing of the current output cell\n",
       "var outputEl = gd.closest('.output');\n",
       "if (outputEl) {{\n",
       "    x.observe(outputEl, {childList: true});\n",
       "}}\n",
       "\n",
       "                        })\n",
       "                };\n",
       "                });\n",
       "            </script>\n",
       "        </div>"
      ]
     },
     "metadata": {},
     "output_type": "display_data"
    }
   ],
   "source": [
    "#plot_molecule('dsgdb9nsd_000008', structures)\n",
    "my_plot_molecule('dsgdb9nsd_000303', structures)"
   ]
  },
  {
   "cell_type": "markdown",
   "metadata": {},
   "source": [
    "## Import Data"
   ]
  },
  {
   "cell_type": "code",
   "execution_count": 7,
   "metadata": {},
   "outputs": [
    {
     "data": {
      "text/plain": [
       "Index(['type', 'atom_0', 'x_0', 'y_0', 'z_0', 'atom_1', 'x_1', 'y_1', 'z_1',\n",
       "       'dist', 'dist_x', 'dist_y', 'dist_z', 'type_0', 'type_1',\n",
       "       'dist_to_type_mean', 'dist_to_type_0_mean', 'dist_to_type_1_mean',\n",
       "       'molecule_type_dist_mean', 'num_tda_1', 'time_tda_0', 'time_tda_1',\n",
       "       'amp_tda', 'graph_holes_0', 'graph_holes_1', 'graph_lifetime_1',\n",
       "       'graph_amplitude_1'],\n",
       "      dtype='object')"
      ]
     },
     "execution_count": 7,
     "metadata": {},
     "output_type": "execute_result"
    }
   ],
   "source": [
    "X = pd.read_pickle('../data/generated_features/X_1.pickle')\n",
    "y = pd.read_pickle('../data/generated_features/y_1.pickle')\n",
    "\n",
    "X.columns"
   ]
  },
  {
   "cell_type": "code",
   "execution_count": 8,
   "metadata": {},
   "outputs": [],
   "source": [
    "file_folder = '../data/champs-scalar-coupling' if 'champs-scalar-coupling' in os.listdir('../data/') else '../data'\n",
    "os.listdir(file_folder)\n",
    "\n",
    "train = pd.read_csv(f'{file_folder}/train.csv')\n",
    "test = pd.read_csv(f'{file_folder}/test.csv')\n",
    "sub = pd.read_csv(f'{file_folder}/sample_submission.csv')\n",
    "structures = pd.read_csv(f'{file_folder}/structures.csv')\n",
    "contributions = pd.read_csv((f'{file_folder}/scalar_coupling_contributions.csv'))"
   ]
  },
  {
   "cell_type": "markdown",
   "metadata": {},
   "source": [
    "## Create new features"
   ]
  },
  {
   "cell_type": "code",
   "execution_count": 198,
   "metadata": {},
   "outputs": [
    {
     "data": {
      "text/plain": [
       "['dsgdb9nsd_000001',\n",
       " 'dsgdb9nsd_000002',\n",
       " 'dsgdb9nsd_000003',\n",
       " 'dsgdb9nsd_000004',\n",
       " 'dsgdb9nsd_000005',\n",
       " 'dsgdb9nsd_000007',\n",
       " 'dsgdb9nsd_000008',\n",
       " 'dsgdb9nsd_000009',\n",
       " 'dsgdb9nsd_000010',\n",
       " 'dsgdb9nsd_000011',\n",
       " 'dsgdb9nsd_000012',\n",
       " 'dsgdb9nsd_000013',\n",
       " 'dsgdb9nsd_000014',\n",
       " 'dsgdb9nsd_000015',\n",
       " 'dsgdb9nsd_000016',\n",
       " 'dsgdb9nsd_000017',\n",
       " 'dsgdb9nsd_000018',\n",
       " 'dsgdb9nsd_000019',\n",
       " 'dsgdb9nsd_000020',\n",
       " 'dsgdb9nsd_000021',\n",
       " 'dsgdb9nsd_000022',\n",
       " 'dsgdb9nsd_000023',\n",
       " 'dsgdb9nsd_000024',\n",
       " 'dsgdb9nsd_000026',\n",
       " 'dsgdb9nsd_000027',\n",
       " 'dsgdb9nsd_000028',\n",
       " 'dsgdb9nsd_000029',\n",
       " 'dsgdb9nsd_000030',\n",
       " 'dsgdb9nsd_000031',\n",
       " 'dsgdb9nsd_000032',\n",
       " 'dsgdb9nsd_000033',\n",
       " 'dsgdb9nsd_000034',\n",
       " 'dsgdb9nsd_000035',\n",
       " 'dsgdb9nsd_000036',\n",
       " 'dsgdb9nsd_000037',\n",
       " 'dsgdb9nsd_000038',\n",
       " 'dsgdb9nsd_000039',\n",
       " 'dsgdb9nsd_000040',\n",
       " 'dsgdb9nsd_000041',\n",
       " 'dsgdb9nsd_000042',\n",
       " 'dsgdb9nsd_000043',\n",
       " 'dsgdb9nsd_000044',\n",
       " 'dsgdb9nsd_000045',\n",
       " 'dsgdb9nsd_000046',\n",
       " 'dsgdb9nsd_000047',\n",
       " 'dsgdb9nsd_000048',\n",
       " 'dsgdb9nsd_000049',\n",
       " 'dsgdb9nsd_000050',\n",
       " 'dsgdb9nsd_000051',\n",
       " 'dsgdb9nsd_000052',\n",
       " 'dsgdb9nsd_000053',\n",
       " 'dsgdb9nsd_000054',\n",
       " 'dsgdb9nsd_000055',\n",
       " 'dsgdb9nsd_000056',\n",
       " 'dsgdb9nsd_000057',\n",
       " 'dsgdb9nsd_000059',\n",
       " 'dsgdb9nsd_000060',\n",
       " 'dsgdb9nsd_000062',\n",
       " 'dsgdb9nsd_000063',\n",
       " 'dsgdb9nsd_000064',\n",
       " 'dsgdb9nsd_000065',\n",
       " 'dsgdb9nsd_000066',\n",
       " 'dsgdb9nsd_000067',\n",
       " 'dsgdb9nsd_000068',\n",
       " 'dsgdb9nsd_000069',\n",
       " 'dsgdb9nsd_000070',\n",
       " 'dsgdb9nsd_000071',\n",
       " 'dsgdb9nsd_000072',\n",
       " 'dsgdb9nsd_000073',\n",
       " 'dsgdb9nsd_000074',\n",
       " 'dsgdb9nsd_000075',\n",
       " 'dsgdb9nsd_000076',\n",
       " 'dsgdb9nsd_000077',\n",
       " 'dsgdb9nsd_000078',\n",
       " 'dsgdb9nsd_000079',\n",
       " 'dsgdb9nsd_000081',\n",
       " 'dsgdb9nsd_000082',\n",
       " 'dsgdb9nsd_000083',\n",
       " 'dsgdb9nsd_000084',\n",
       " 'dsgdb9nsd_000085',\n",
       " 'dsgdb9nsd_000086',\n",
       " 'dsgdb9nsd_000087',\n",
       " 'dsgdb9nsd_000088',\n",
       " 'dsgdb9nsd_000089',\n",
       " 'dsgdb9nsd_000090',\n",
       " 'dsgdb9nsd_000091',\n",
       " 'dsgdb9nsd_000092',\n",
       " 'dsgdb9nsd_000093',\n",
       " 'dsgdb9nsd_000094',\n",
       " 'dsgdb9nsd_000095',\n",
       " 'dsgdb9nsd_000096',\n",
       " 'dsgdb9nsd_000097',\n",
       " 'dsgdb9nsd_000098',\n",
       " 'dsgdb9nsd_000099',\n",
       " 'dsgdb9nsd_000100',\n",
       " 'dsgdb9nsd_000101',\n",
       " 'dsgdb9nsd_000102',\n",
       " 'dsgdb9nsd_000103',\n",
       " 'dsgdb9nsd_000104',\n",
       " 'dsgdb9nsd_000105',\n",
       " 'dsgdb9nsd_000106',\n",
       " 'dsgdb9nsd_000107',\n",
       " 'dsgdb9nsd_000108',\n",
       " 'dsgdb9nsd_000109',\n",
       " 'dsgdb9nsd_000110',\n",
       " 'dsgdb9nsd_000111',\n",
       " 'dsgdb9nsd_000112',\n",
       " 'dsgdb9nsd_000113',\n",
       " 'dsgdb9nsd_000114',\n",
       " 'dsgdb9nsd_000115',\n",
       " 'dsgdb9nsd_000116',\n",
       " 'dsgdb9nsd_000117',\n",
       " 'dsgdb9nsd_000118',\n",
       " 'dsgdb9nsd_000119',\n",
       " 'dsgdb9nsd_000120',\n",
       " 'dsgdb9nsd_000121',\n",
       " 'dsgdb9nsd_000122',\n",
       " 'dsgdb9nsd_000123',\n",
       " 'dsgdb9nsd_000124',\n",
       " 'dsgdb9nsd_000125',\n",
       " 'dsgdb9nsd_000126',\n",
       " 'dsgdb9nsd_000127',\n",
       " 'dsgdb9nsd_000128',\n",
       " 'dsgdb9nsd_000129',\n",
       " 'dsgdb9nsd_000130',\n",
       " 'dsgdb9nsd_000131',\n",
       " 'dsgdb9nsd_000132',\n",
       " 'dsgdb9nsd_000133',\n",
       " 'dsgdb9nsd_000134',\n",
       " 'dsgdb9nsd_000135',\n",
       " 'dsgdb9nsd_000136',\n",
       " 'dsgdb9nsd_000137',\n",
       " 'dsgdb9nsd_000138',\n",
       " 'dsgdb9nsd_000139',\n",
       " 'dsgdb9nsd_000140',\n",
       " 'dsgdb9nsd_000141',\n",
       " 'dsgdb9nsd_000142',\n",
       " 'dsgdb9nsd_000143',\n",
       " 'dsgdb9nsd_000144',\n",
       " 'dsgdb9nsd_000145',\n",
       " 'dsgdb9nsd_000146',\n",
       " 'dsgdb9nsd_000147',\n",
       " 'dsgdb9nsd_000148',\n",
       " 'dsgdb9nsd_000149',\n",
       " 'dsgdb9nsd_000150',\n",
       " 'dsgdb9nsd_000151',\n",
       " 'dsgdb9nsd_000152',\n",
       " 'dsgdb9nsd_000153',\n",
       " 'dsgdb9nsd_000154',\n",
       " 'dsgdb9nsd_000155',\n",
       " 'dsgdb9nsd_000156',\n",
       " 'dsgdb9nsd_000157',\n",
       " 'dsgdb9nsd_000158',\n",
       " 'dsgdb9nsd_000159',\n",
       " 'dsgdb9nsd_000160',\n",
       " 'dsgdb9nsd_000161',\n",
       " 'dsgdb9nsd_000162',\n",
       " 'dsgdb9nsd_000163',\n",
       " 'dsgdb9nsd_000164',\n",
       " 'dsgdb9nsd_000165',\n",
       " 'dsgdb9nsd_000166',\n",
       " 'dsgdb9nsd_000167',\n",
       " 'dsgdb9nsd_000168',\n",
       " 'dsgdb9nsd_000169',\n",
       " 'dsgdb9nsd_000170',\n",
       " 'dsgdb9nsd_000171',\n",
       " 'dsgdb9nsd_000172',\n",
       " 'dsgdb9nsd_000173',\n",
       " 'dsgdb9nsd_000174',\n",
       " 'dsgdb9nsd_000175',\n",
       " 'dsgdb9nsd_000176',\n",
       " 'dsgdb9nsd_000178',\n",
       " 'dsgdb9nsd_000179',\n",
       " 'dsgdb9nsd_000180',\n",
       " 'dsgdb9nsd_000181',\n",
       " 'dsgdb9nsd_000182',\n",
       " 'dsgdb9nsd_000183',\n",
       " 'dsgdb9nsd_000187',\n",
       " 'dsgdb9nsd_000188',\n",
       " 'dsgdb9nsd_000189',\n",
       " 'dsgdb9nsd_000190',\n",
       " 'dsgdb9nsd_000191',\n",
       " 'dsgdb9nsd_000192',\n",
       " 'dsgdb9nsd_000193',\n",
       " 'dsgdb9nsd_000194',\n",
       " 'dsgdb9nsd_000195',\n",
       " 'dsgdb9nsd_000196',\n",
       " 'dsgdb9nsd_000197',\n",
       " 'dsgdb9nsd_000198',\n",
       " 'dsgdb9nsd_000199',\n",
       " 'dsgdb9nsd_000200',\n",
       " 'dsgdb9nsd_000201',\n",
       " 'dsgdb9nsd_000202',\n",
       " 'dsgdb9nsd_000203',\n",
       " 'dsgdb9nsd_000204',\n",
       " 'dsgdb9nsd_000205',\n",
       " 'dsgdb9nsd_000206',\n",
       " 'dsgdb9nsd_000207',\n",
       " 'dsgdb9nsd_000208',\n",
       " 'dsgdb9nsd_000209',\n",
       " 'dsgdb9nsd_000210',\n",
       " 'dsgdb9nsd_000211',\n",
       " 'dsgdb9nsd_000212',\n",
       " 'dsgdb9nsd_000213',\n",
       " 'dsgdb9nsd_000214',\n",
       " 'dsgdb9nsd_000215',\n",
       " 'dsgdb9nsd_000216',\n",
       " 'dsgdb9nsd_000217',\n",
       " 'dsgdb9nsd_000218',\n",
       " 'dsgdb9nsd_000219',\n",
       " 'dsgdb9nsd_000220',\n",
       " 'dsgdb9nsd_000221',\n",
       " 'dsgdb9nsd_000222',\n",
       " 'dsgdb9nsd_000223',\n",
       " 'dsgdb9nsd_000224',\n",
       " 'dsgdb9nsd_000225',\n",
       " 'dsgdb9nsd_000226',\n",
       " 'dsgdb9nsd_000227',\n",
       " 'dsgdb9nsd_000228',\n",
       " 'dsgdb9nsd_000229',\n",
       " 'dsgdb9nsd_000230',\n",
       " 'dsgdb9nsd_000231',\n",
       " 'dsgdb9nsd_000232',\n",
       " 'dsgdb9nsd_000233',\n",
       " 'dsgdb9nsd_000234',\n",
       " 'dsgdb9nsd_000235',\n",
       " 'dsgdb9nsd_000236',\n",
       " 'dsgdb9nsd_000237',\n",
       " 'dsgdb9nsd_000238',\n",
       " 'dsgdb9nsd_000239',\n",
       " 'dsgdb9nsd_000240',\n",
       " 'dsgdb9nsd_000241',\n",
       " 'dsgdb9nsd_000242',\n",
       " 'dsgdb9nsd_000243',\n",
       " 'dsgdb9nsd_000244',\n",
       " 'dsgdb9nsd_000246',\n",
       " 'dsgdb9nsd_000247',\n",
       " 'dsgdb9nsd_000248',\n",
       " 'dsgdb9nsd_000249',\n",
       " 'dsgdb9nsd_000250',\n",
       " 'dsgdb9nsd_000251',\n",
       " 'dsgdb9nsd_000252',\n",
       " 'dsgdb9nsd_000253',\n",
       " 'dsgdb9nsd_000254',\n",
       " 'dsgdb9nsd_000255',\n",
       " 'dsgdb9nsd_000256',\n",
       " 'dsgdb9nsd_000257',\n",
       " 'dsgdb9nsd_000258',\n",
       " 'dsgdb9nsd_000259',\n",
       " 'dsgdb9nsd_000260',\n",
       " 'dsgdb9nsd_000261',\n",
       " 'dsgdb9nsd_000262',\n",
       " 'dsgdb9nsd_000263',\n",
       " 'dsgdb9nsd_000264',\n",
       " 'dsgdb9nsd_000265',\n",
       " 'dsgdb9nsd_000266',\n",
       " 'dsgdb9nsd_000268',\n",
       " 'dsgdb9nsd_000269',\n",
       " 'dsgdb9nsd_000270',\n",
       " 'dsgdb9nsd_000271',\n",
       " 'dsgdb9nsd_000272',\n",
       " 'dsgdb9nsd_000273',\n",
       " 'dsgdb9nsd_000274',\n",
       " 'dsgdb9nsd_000275',\n",
       " 'dsgdb9nsd_000276',\n",
       " 'dsgdb9nsd_000277',\n",
       " 'dsgdb9nsd_000278',\n",
       " 'dsgdb9nsd_000279',\n",
       " 'dsgdb9nsd_000281',\n",
       " 'dsgdb9nsd_000282',\n",
       " 'dsgdb9nsd_000283',\n",
       " 'dsgdb9nsd_000284',\n",
       " 'dsgdb9nsd_000285',\n",
       " 'dsgdb9nsd_000287',\n",
       " 'dsgdb9nsd_000288',\n",
       " 'dsgdb9nsd_000289',\n",
       " 'dsgdb9nsd_000290',\n",
       " 'dsgdb9nsd_000291',\n",
       " 'dsgdb9nsd_000292',\n",
       " 'dsgdb9nsd_000293',\n",
       " 'dsgdb9nsd_000294',\n",
       " 'dsgdb9nsd_000295',\n",
       " 'dsgdb9nsd_000296',\n",
       " 'dsgdb9nsd_000297',\n",
       " 'dsgdb9nsd_000298',\n",
       " 'dsgdb9nsd_000299',\n",
       " 'dsgdb9nsd_000300',\n",
       " 'dsgdb9nsd_000301',\n",
       " 'dsgdb9nsd_000302',\n",
       " 'dsgdb9nsd_000303',\n",
       " 'dsgdb9nsd_000304',\n",
       " 'dsgdb9nsd_000305',\n",
       " 'dsgdb9nsd_000306',\n",
       " 'dsgdb9nsd_000307',\n",
       " 'dsgdb9nsd_000308',\n",
       " 'dsgdb9nsd_000309',\n",
       " 'dsgdb9nsd_000310',\n",
       " 'dsgdb9nsd_000311',\n",
       " 'dsgdb9nsd_000312',\n",
       " 'dsgdb9nsd_000313',\n",
       " 'dsgdb9nsd_000314',\n",
       " 'dsgdb9nsd_000315',\n",
       " 'dsgdb9nsd_000316',\n",
       " 'dsgdb9nsd_000317',\n",
       " 'dsgdb9nsd_000318',\n",
       " 'dsgdb9nsd_000319',\n",
       " 'dsgdb9nsd_000320',\n",
       " 'dsgdb9nsd_000321',\n",
       " 'dsgdb9nsd_000322',\n",
       " 'dsgdb9nsd_000324',\n",
       " 'dsgdb9nsd_000325',\n",
       " 'dsgdb9nsd_000326',\n",
       " 'dsgdb9nsd_000327',\n",
       " 'dsgdb9nsd_000328',\n",
       " 'dsgdb9nsd_000329',\n",
       " 'dsgdb9nsd_000330',\n",
       " 'dsgdb9nsd_000331',\n",
       " 'dsgdb9nsd_000332',\n",
       " 'dsgdb9nsd_000333',\n",
       " 'dsgdb9nsd_000334',\n",
       " 'dsgdb9nsd_000335',\n",
       " 'dsgdb9nsd_000336',\n",
       " 'dsgdb9nsd_000337',\n",
       " 'dsgdb9nsd_000338',\n",
       " 'dsgdb9nsd_000339',\n",
       " 'dsgdb9nsd_000340',\n",
       " 'dsgdb9nsd_000341',\n",
       " 'dsgdb9nsd_000342',\n",
       " 'dsgdb9nsd_000343',\n",
       " 'dsgdb9nsd_000344',\n",
       " 'dsgdb9nsd_000345',\n",
       " 'dsgdb9nsd_000346',\n",
       " 'dsgdb9nsd_000347',\n",
       " 'dsgdb9nsd_000348',\n",
       " 'dsgdb9nsd_000349',\n",
       " 'dsgdb9nsd_000350',\n",
       " 'dsgdb9nsd_000351',\n",
       " 'dsgdb9nsd_000352',\n",
       " 'dsgdb9nsd_000353',\n",
       " 'dsgdb9nsd_000354',\n",
       " 'dsgdb9nsd_000355',\n",
       " 'dsgdb9nsd_000356',\n",
       " 'dsgdb9nsd_000357',\n",
       " 'dsgdb9nsd_000358',\n",
       " 'dsgdb9nsd_000359',\n",
       " 'dsgdb9nsd_000360',\n",
       " 'dsgdb9nsd_000361',\n",
       " 'dsgdb9nsd_000362',\n",
       " 'dsgdb9nsd_000363',\n",
       " 'dsgdb9nsd_000364',\n",
       " 'dsgdb9nsd_000365',\n",
       " 'dsgdb9nsd_000366',\n",
       " 'dsgdb9nsd_000367',\n",
       " 'dsgdb9nsd_000368',\n",
       " 'dsgdb9nsd_000369',\n",
       " 'dsgdb9nsd_000370',\n",
       " 'dsgdb9nsd_000371',\n",
       " 'dsgdb9nsd_000372',\n",
       " 'dsgdb9nsd_000373',\n",
       " 'dsgdb9nsd_000374',\n",
       " 'dsgdb9nsd_000375',\n",
       " 'dsgdb9nsd_000376',\n",
       " 'dsgdb9nsd_000377',\n",
       " 'dsgdb9nsd_000378',\n",
       " 'dsgdb9nsd_000379',\n",
       " 'dsgdb9nsd_000380',\n",
       " 'dsgdb9nsd_000381',\n",
       " 'dsgdb9nsd_000382',\n",
       " 'dsgdb9nsd_000383',\n",
       " 'dsgdb9nsd_000384',\n",
       " 'dsgdb9nsd_000385',\n",
       " 'dsgdb9nsd_000386',\n",
       " 'dsgdb9nsd_000387',\n",
       " 'dsgdb9nsd_000388',\n",
       " 'dsgdb9nsd_000389',\n",
       " 'dsgdb9nsd_000390',\n",
       " 'dsgdb9nsd_000391',\n",
       " 'dsgdb9nsd_000392',\n",
       " 'dsgdb9nsd_000393',\n",
       " 'dsgdb9nsd_000394',\n",
       " 'dsgdb9nsd_000395',\n",
       " 'dsgdb9nsd_000396',\n",
       " 'dsgdb9nsd_000397',\n",
       " 'dsgdb9nsd_000398',\n",
       " 'dsgdb9nsd_000399',\n",
       " 'dsgdb9nsd_000400',\n",
       " 'dsgdb9nsd_000401',\n",
       " 'dsgdb9nsd_000402',\n",
       " 'dsgdb9nsd_000403',\n",
       " 'dsgdb9nsd_000404',\n",
       " 'dsgdb9nsd_000405',\n",
       " 'dsgdb9nsd_000406',\n",
       " 'dsgdb9nsd_000407',\n",
       " 'dsgdb9nsd_000408',\n",
       " 'dsgdb9nsd_000409',\n",
       " 'dsgdb9nsd_000410',\n",
       " 'dsgdb9nsd_000411',\n",
       " 'dsgdb9nsd_000412',\n",
       " 'dsgdb9nsd_000413',\n",
       " 'dsgdb9nsd_000414',\n",
       " 'dsgdb9nsd_000415',\n",
       " 'dsgdb9nsd_000416',\n",
       " 'dsgdb9nsd_000417',\n",
       " 'dsgdb9nsd_000418',\n",
       " 'dsgdb9nsd_000419',\n",
       " 'dsgdb9nsd_000420',\n",
       " 'dsgdb9nsd_000421',\n",
       " 'dsgdb9nsd_000422',\n",
       " 'dsgdb9nsd_000423',\n",
       " 'dsgdb9nsd_000424',\n",
       " 'dsgdb9nsd_000425',\n",
       " 'dsgdb9nsd_000426',\n",
       " 'dsgdb9nsd_000427',\n",
       " 'dsgdb9nsd_000428',\n",
       " 'dsgdb9nsd_000429',\n",
       " 'dsgdb9nsd_000430',\n",
       " 'dsgdb9nsd_000431',\n",
       " 'dsgdb9nsd_000432',\n",
       " 'dsgdb9nsd_000433',\n",
       " 'dsgdb9nsd_000434',\n",
       " 'dsgdb9nsd_000435',\n",
       " 'dsgdb9nsd_000436',\n",
       " 'dsgdb9nsd_000437',\n",
       " 'dsgdb9nsd_000438',\n",
       " 'dsgdb9nsd_000439',\n",
       " 'dsgdb9nsd_000440',\n",
       " 'dsgdb9nsd_000441',\n",
       " 'dsgdb9nsd_000442',\n",
       " 'dsgdb9nsd_000443',\n",
       " 'dsgdb9nsd_000444',\n",
       " 'dsgdb9nsd_000445',\n",
       " 'dsgdb9nsd_000446',\n",
       " 'dsgdb9nsd_000447',\n",
       " 'dsgdb9nsd_000448',\n",
       " 'dsgdb9nsd_000449',\n",
       " 'dsgdb9nsd_000450',\n",
       " 'dsgdb9nsd_000451',\n",
       " 'dsgdb9nsd_000452',\n",
       " 'dsgdb9nsd_000453',\n",
       " 'dsgdb9nsd_000454',\n",
       " 'dsgdb9nsd_000455',\n",
       " 'dsgdb9nsd_000456',\n",
       " 'dsgdb9nsd_000457',\n",
       " 'dsgdb9nsd_000458',\n",
       " 'dsgdb9nsd_000459',\n",
       " 'dsgdb9nsd_000460',\n",
       " 'dsgdb9nsd_000461',\n",
       " 'dsgdb9nsd_000462',\n",
       " 'dsgdb9nsd_000463',\n",
       " 'dsgdb9nsd_000464',\n",
       " 'dsgdb9nsd_000465',\n",
       " 'dsgdb9nsd_000466',\n",
       " 'dsgdb9nsd_000467',\n",
       " 'dsgdb9nsd_000468',\n",
       " 'dsgdb9nsd_000469',\n",
       " 'dsgdb9nsd_000470',\n",
       " 'dsgdb9nsd_000471',\n",
       " 'dsgdb9nsd_000472',\n",
       " 'dsgdb9nsd_000473',\n",
       " 'dsgdb9nsd_000474',\n",
       " 'dsgdb9nsd_000475',\n",
       " 'dsgdb9nsd_000476',\n",
       " 'dsgdb9nsd_000477',\n",
       " 'dsgdb9nsd_000478',\n",
       " 'dsgdb9nsd_000479',\n",
       " 'dsgdb9nsd_000480',\n",
       " 'dsgdb9nsd_000481',\n",
       " 'dsgdb9nsd_000482',\n",
       " 'dsgdb9nsd_000483',\n",
       " 'dsgdb9nsd_000484',\n",
       " 'dsgdb9nsd_000485',\n",
       " 'dsgdb9nsd_000487',\n",
       " 'dsgdb9nsd_000488',\n",
       " 'dsgdb9nsd_000489',\n",
       " 'dsgdb9nsd_000490',\n",
       " 'dsgdb9nsd_000491',\n",
       " 'dsgdb9nsd_000492',\n",
       " 'dsgdb9nsd_000493',\n",
       " 'dsgdb9nsd_000494',\n",
       " 'dsgdb9nsd_000495',\n",
       " 'dsgdb9nsd_000496',\n",
       " 'dsgdb9nsd_000497',\n",
       " 'dsgdb9nsd_000498',\n",
       " 'dsgdb9nsd_000499',\n",
       " 'dsgdb9nsd_000500',\n",
       " 'dsgdb9nsd_000501',\n",
       " 'dsgdb9nsd_000502',\n",
       " 'dsgdb9nsd_000503',\n",
       " 'dsgdb9nsd_000504',\n",
       " 'dsgdb9nsd_000505',\n",
       " 'dsgdb9nsd_000506',\n",
       " 'dsgdb9nsd_000507',\n",
       " 'dsgdb9nsd_000508',\n",
       " 'dsgdb9nsd_000509',\n",
       " 'dsgdb9nsd_000510',\n",
       " 'dsgdb9nsd_000511',\n",
       " 'dsgdb9nsd_000512',\n",
       " 'dsgdb9nsd_000513',\n",
       " 'dsgdb9nsd_000514',\n",
       " 'dsgdb9nsd_000515',\n",
       " 'dsgdb9nsd_000516',\n",
       " 'dsgdb9nsd_000517',\n",
       " 'dsgdb9nsd_000518',\n",
       " 'dsgdb9nsd_000519',\n",
       " 'dsgdb9nsd_000520',\n",
       " 'dsgdb9nsd_000521',\n",
       " 'dsgdb9nsd_000522',\n",
       " 'dsgdb9nsd_000523',\n",
       " 'dsgdb9nsd_000524',\n",
       " 'dsgdb9nsd_000525',\n",
       " 'dsgdb9nsd_000526',\n",
       " 'dsgdb9nsd_000527',\n",
       " 'dsgdb9nsd_000528',\n",
       " 'dsgdb9nsd_000529',\n",
       " 'dsgdb9nsd_000530',\n",
       " 'dsgdb9nsd_000531',\n",
       " 'dsgdb9nsd_000532',\n",
       " 'dsgdb9nsd_000533',\n",
       " 'dsgdb9nsd_000534',\n",
       " 'dsgdb9nsd_000535',\n",
       " 'dsgdb9nsd_000536',\n",
       " 'dsgdb9nsd_000537',\n",
       " 'dsgdb9nsd_000538',\n",
       " 'dsgdb9nsd_000539',\n",
       " 'dsgdb9nsd_000540',\n",
       " 'dsgdb9nsd_000541',\n",
       " 'dsgdb9nsd_000542',\n",
       " 'dsgdb9nsd_000543',\n",
       " 'dsgdb9nsd_000544',\n",
       " 'dsgdb9nsd_000545',\n",
       " 'dsgdb9nsd_000546',\n",
       " 'dsgdb9nsd_000547',\n",
       " 'dsgdb9nsd_000548',\n",
       " 'dsgdb9nsd_000549',\n",
       " 'dsgdb9nsd_000550',\n",
       " 'dsgdb9nsd_000551',\n",
       " 'dsgdb9nsd_000552',\n",
       " 'dsgdb9nsd_000553',\n",
       " 'dsgdb9nsd_000554',\n",
       " 'dsgdb9nsd_000555',\n",
       " 'dsgdb9nsd_000556',\n",
       " 'dsgdb9nsd_000557',\n",
       " 'dsgdb9nsd_000558',\n",
       " 'dsgdb9nsd_000559',\n",
       " 'dsgdb9nsd_000560',\n",
       " 'dsgdb9nsd_000561',\n",
       " 'dsgdb9nsd_000562',\n",
       " 'dsgdb9nsd_000563',\n",
       " 'dsgdb9nsd_000564',\n",
       " 'dsgdb9nsd_000565',\n",
       " 'dsgdb9nsd_000566',\n",
       " 'dsgdb9nsd_000567',\n",
       " 'dsgdb9nsd_000568',\n",
       " 'dsgdb9nsd_000569',\n",
       " 'dsgdb9nsd_000570',\n",
       " 'dsgdb9nsd_000571',\n",
       " 'dsgdb9nsd_000572',\n",
       " 'dsgdb9nsd_000573',\n",
       " 'dsgdb9nsd_000574',\n",
       " 'dsgdb9nsd_000575',\n",
       " 'dsgdb9nsd_000576',\n",
       " 'dsgdb9nsd_000577',\n",
       " 'dsgdb9nsd_000578',\n",
       " 'dsgdb9nsd_000579',\n",
       " 'dsgdb9nsd_000580',\n",
       " 'dsgdb9nsd_000581',\n",
       " 'dsgdb9nsd_000582',\n",
       " 'dsgdb9nsd_000583',\n",
       " 'dsgdb9nsd_000584',\n",
       " 'dsgdb9nsd_000585',\n",
       " 'dsgdb9nsd_000586',\n",
       " 'dsgdb9nsd_000587',\n",
       " 'dsgdb9nsd_000588',\n",
       " 'dsgdb9nsd_000589',\n",
       " 'dsgdb9nsd_000590',\n",
       " 'dsgdb9nsd_000591',\n",
       " 'dsgdb9nsd_000592',\n",
       " 'dsgdb9nsd_000593',\n",
       " 'dsgdb9nsd_000594',\n",
       " 'dsgdb9nsd_000595',\n",
       " 'dsgdb9nsd_000596',\n",
       " 'dsgdb9nsd_000597',\n",
       " 'dsgdb9nsd_000598',\n",
       " 'dsgdb9nsd_000599',\n",
       " 'dsgdb9nsd_000600',\n",
       " 'dsgdb9nsd_000601',\n",
       " 'dsgdb9nsd_000602',\n",
       " 'dsgdb9nsd_000603',\n",
       " 'dsgdb9nsd_000604',\n",
       " 'dsgdb9nsd_000605',\n",
       " 'dsgdb9nsd_000606',\n",
       " 'dsgdb9nsd_000607',\n",
       " 'dsgdb9nsd_000608',\n",
       " 'dsgdb9nsd_000609',\n",
       " 'dsgdb9nsd_000610',\n",
       " 'dsgdb9nsd_000611',\n",
       " 'dsgdb9nsd_000612',\n",
       " 'dsgdb9nsd_000613',\n",
       " 'dsgdb9nsd_000614',\n",
       " 'dsgdb9nsd_000615',\n",
       " 'dsgdb9nsd_000616',\n",
       " 'dsgdb9nsd_000617',\n",
       " 'dsgdb9nsd_000618',\n",
       " 'dsgdb9nsd_000619',\n",
       " 'dsgdb9nsd_000620',\n",
       " 'dsgdb9nsd_000621',\n",
       " 'dsgdb9nsd_000622',\n",
       " 'dsgdb9nsd_000623',\n",
       " 'dsgdb9nsd_000624',\n",
       " 'dsgdb9nsd_000625',\n",
       " 'dsgdb9nsd_000626',\n",
       " 'dsgdb9nsd_000627',\n",
       " 'dsgdb9nsd_000628',\n",
       " 'dsgdb9nsd_000629',\n",
       " 'dsgdb9nsd_000630',\n",
       " 'dsgdb9nsd_000631',\n",
       " 'dsgdb9nsd_000632',\n",
       " 'dsgdb9nsd_000633',\n",
       " 'dsgdb9nsd_000634',\n",
       " 'dsgdb9nsd_000635',\n",
       " 'dsgdb9nsd_000636',\n",
       " 'dsgdb9nsd_000637',\n",
       " 'dsgdb9nsd_000638',\n",
       " 'dsgdb9nsd_000639',\n",
       " 'dsgdb9nsd_000640',\n",
       " 'dsgdb9nsd_000641',\n",
       " 'dsgdb9nsd_000642',\n",
       " 'dsgdb9nsd_000643',\n",
       " 'dsgdb9nsd_000644',\n",
       " 'dsgdb9nsd_000645',\n",
       " 'dsgdb9nsd_000646',\n",
       " 'dsgdb9nsd_000647',\n",
       " 'dsgdb9nsd_000648',\n",
       " 'dsgdb9nsd_000649',\n",
       " 'dsgdb9nsd_000650',\n",
       " 'dsgdb9nsd_000651',\n",
       " 'dsgdb9nsd_000652',\n",
       " 'dsgdb9nsd_000653',\n",
       " 'dsgdb9nsd_000654',\n",
       " 'dsgdb9nsd_000655',\n",
       " 'dsgdb9nsd_000656',\n",
       " 'dsgdb9nsd_000657',\n",
       " 'dsgdb9nsd_000658',\n",
       " 'dsgdb9nsd_000659',\n",
       " 'dsgdb9nsd_000660',\n",
       " 'dsgdb9nsd_000661',\n",
       " 'dsgdb9nsd_000662',\n",
       " 'dsgdb9nsd_000663',\n",
       " 'dsgdb9nsd_000664',\n",
       " 'dsgdb9nsd_000665',\n",
       " 'dsgdb9nsd_000666',\n",
       " 'dsgdb9nsd_000667',\n",
       " 'dsgdb9nsd_000668',\n",
       " 'dsgdb9nsd_000669',\n",
       " 'dsgdb9nsd_000670',\n",
       " 'dsgdb9nsd_000671',\n",
       " 'dsgdb9nsd_000672',\n",
       " 'dsgdb9nsd_000673',\n",
       " 'dsgdb9nsd_000674',\n",
       " 'dsgdb9nsd_000675',\n",
       " 'dsgdb9nsd_000676',\n",
       " 'dsgdb9nsd_000677',\n",
       " 'dsgdb9nsd_000678',\n",
       " 'dsgdb9nsd_000679',\n",
       " 'dsgdb9nsd_000680',\n",
       " 'dsgdb9nsd_000681',\n",
       " 'dsgdb9nsd_000682',\n",
       " 'dsgdb9nsd_000683',\n",
       " 'dsgdb9nsd_000684',\n",
       " 'dsgdb9nsd_000685',\n",
       " 'dsgdb9nsd_000686',\n",
       " 'dsgdb9nsd_000687',\n",
       " 'dsgdb9nsd_000688',\n",
       " 'dsgdb9nsd_000689',\n",
       " 'dsgdb9nsd_000690',\n",
       " 'dsgdb9nsd_000691',\n",
       " 'dsgdb9nsd_000692',\n",
       " 'dsgdb9nsd_000693',\n",
       " 'dsgdb9nsd_000694',\n",
       " 'dsgdb9nsd_000695',\n",
       " 'dsgdb9nsd_000696',\n",
       " 'dsgdb9nsd_000697',\n",
       " 'dsgdb9nsd_000698',\n",
       " 'dsgdb9nsd_000699',\n",
       " 'dsgdb9nsd_000700',\n",
       " 'dsgdb9nsd_000701',\n",
       " 'dsgdb9nsd_000702',\n",
       " 'dsgdb9nsd_000703',\n",
       " 'dsgdb9nsd_000704',\n",
       " 'dsgdb9nsd_000705',\n",
       " 'dsgdb9nsd_000706',\n",
       " 'dsgdb9nsd_000707',\n",
       " 'dsgdb9nsd_000708',\n",
       " 'dsgdb9nsd_000709',\n",
       " 'dsgdb9nsd_000710',\n",
       " 'dsgdb9nsd_000711',\n",
       " 'dsgdb9nsd_000712',\n",
       " 'dsgdb9nsd_000713',\n",
       " 'dsgdb9nsd_000714',\n",
       " 'dsgdb9nsd_000715',\n",
       " 'dsgdb9nsd_000716',\n",
       " 'dsgdb9nsd_000717',\n",
       " 'dsgdb9nsd_000718',\n",
       " 'dsgdb9nsd_000719',\n",
       " 'dsgdb9nsd_000720',\n",
       " 'dsgdb9nsd_000721',\n",
       " 'dsgdb9nsd_000722',\n",
       " 'dsgdb9nsd_000723',\n",
       " 'dsgdb9nsd_000724',\n",
       " 'dsgdb9nsd_000725',\n",
       " 'dsgdb9nsd_000726',\n",
       " 'dsgdb9nsd_000727',\n",
       " 'dsgdb9nsd_000728',\n",
       " 'dsgdb9nsd_000729',\n",
       " 'dsgdb9nsd_000730',\n",
       " 'dsgdb9nsd_000731',\n",
       " 'dsgdb9nsd_000732',\n",
       " 'dsgdb9nsd_000733',\n",
       " 'dsgdb9nsd_000734',\n",
       " 'dsgdb9nsd_000735',\n",
       " 'dsgdb9nsd_000736',\n",
       " 'dsgdb9nsd_000737',\n",
       " 'dsgdb9nsd_000738',\n",
       " 'dsgdb9nsd_000739',\n",
       " 'dsgdb9nsd_000740',\n",
       " 'dsgdb9nsd_000741',\n",
       " 'dsgdb9nsd_000742',\n",
       " 'dsgdb9nsd_000743',\n",
       " 'dsgdb9nsd_000744',\n",
       " 'dsgdb9nsd_000745',\n",
       " 'dsgdb9nsd_000746',\n",
       " 'dsgdb9nsd_000747',\n",
       " 'dsgdb9nsd_000748',\n",
       " 'dsgdb9nsd_000749',\n",
       " 'dsgdb9nsd_000750',\n",
       " 'dsgdb9nsd_000751',\n",
       " 'dsgdb9nsd_000756',\n",
       " 'dsgdb9nsd_000757',\n",
       " 'dsgdb9nsd_000758',\n",
       " 'dsgdb9nsd_000759',\n",
       " 'dsgdb9nsd_000760',\n",
       " 'dsgdb9nsd_000761',\n",
       " 'dsgdb9nsd_000762',\n",
       " 'dsgdb9nsd_000763',\n",
       " 'dsgdb9nsd_000764',\n",
       " 'dsgdb9nsd_000765',\n",
       " 'dsgdb9nsd_000766',\n",
       " 'dsgdb9nsd_000767',\n",
       " 'dsgdb9nsd_000768',\n",
       " 'dsgdb9nsd_000769',\n",
       " 'dsgdb9nsd_000770',\n",
       " 'dsgdb9nsd_000771',\n",
       " 'dsgdb9nsd_000772',\n",
       " 'dsgdb9nsd_000773',\n",
       " 'dsgdb9nsd_000774',\n",
       " 'dsgdb9nsd_000775',\n",
       " 'dsgdb9nsd_000776',\n",
       " 'dsgdb9nsd_000777',\n",
       " 'dsgdb9nsd_000778',\n",
       " 'dsgdb9nsd_000780',\n",
       " 'dsgdb9nsd_000781',\n",
       " 'dsgdb9nsd_000782',\n",
       " 'dsgdb9nsd_000783',\n",
       " 'dsgdb9nsd_000784',\n",
       " 'dsgdb9nsd_000785',\n",
       " 'dsgdb9nsd_000786',\n",
       " 'dsgdb9nsd_000787',\n",
       " 'dsgdb9nsd_000788',\n",
       " 'dsgdb9nsd_000789',\n",
       " 'dsgdb9nsd_000790',\n",
       " 'dsgdb9nsd_000791',\n",
       " 'dsgdb9nsd_000792',\n",
       " 'dsgdb9nsd_000793',\n",
       " 'dsgdb9nsd_000794',\n",
       " 'dsgdb9nsd_000795',\n",
       " 'dsgdb9nsd_000796',\n",
       " 'dsgdb9nsd_000797',\n",
       " 'dsgdb9nsd_000798',\n",
       " 'dsgdb9nsd_000799',\n",
       " 'dsgdb9nsd_000800',\n",
       " 'dsgdb9nsd_000801',\n",
       " 'dsgdb9nsd_000802',\n",
       " 'dsgdb9nsd_000803',\n",
       " 'dsgdb9nsd_000804',\n",
       " 'dsgdb9nsd_000805',\n",
       " 'dsgdb9nsd_000806',\n",
       " 'dsgdb9nsd_000807',\n",
       " 'dsgdb9nsd_000808',\n",
       " 'dsgdb9nsd_000809',\n",
       " 'dsgdb9nsd_000810',\n",
       " 'dsgdb9nsd_000811',\n",
       " 'dsgdb9nsd_000812',\n",
       " 'dsgdb9nsd_000813',\n",
       " 'dsgdb9nsd_000814',\n",
       " 'dsgdb9nsd_000815',\n",
       " 'dsgdb9nsd_000816',\n",
       " 'dsgdb9nsd_000817',\n",
       " 'dsgdb9nsd_000818',\n",
       " 'dsgdb9nsd_000819',\n",
       " 'dsgdb9nsd_000820',\n",
       " 'dsgdb9nsd_000821',\n",
       " 'dsgdb9nsd_000822',\n",
       " 'dsgdb9nsd_000823',\n",
       " 'dsgdb9nsd_000824',\n",
       " 'dsgdb9nsd_000825',\n",
       " 'dsgdb9nsd_000826',\n",
       " 'dsgdb9nsd_000828',\n",
       " 'dsgdb9nsd_000829',\n",
       " 'dsgdb9nsd_000830',\n",
       " 'dsgdb9nsd_000831',\n",
       " 'dsgdb9nsd_000832',\n",
       " 'dsgdb9nsd_000833',\n",
       " 'dsgdb9nsd_000834',\n",
       " 'dsgdb9nsd_000835',\n",
       " 'dsgdb9nsd_000836',\n",
       " 'dsgdb9nsd_000837',\n",
       " 'dsgdb9nsd_000838',\n",
       " 'dsgdb9nsd_000839',\n",
       " 'dsgdb9nsd_000840',\n",
       " 'dsgdb9nsd_000841',\n",
       " 'dsgdb9nsd_000842',\n",
       " 'dsgdb9nsd_000843',\n",
       " 'dsgdb9nsd_000844',\n",
       " 'dsgdb9nsd_000845',\n",
       " 'dsgdb9nsd_000846',\n",
       " 'dsgdb9nsd_000847',\n",
       " 'dsgdb9nsd_000848',\n",
       " 'dsgdb9nsd_000849',\n",
       " 'dsgdb9nsd_000850',\n",
       " 'dsgdb9nsd_000851',\n",
       " 'dsgdb9nsd_000852',\n",
       " 'dsgdb9nsd_000853',\n",
       " 'dsgdb9nsd_000854',\n",
       " 'dsgdb9nsd_000855',\n",
       " 'dsgdb9nsd_000856',\n",
       " 'dsgdb9nsd_000857',\n",
       " 'dsgdb9nsd_000858',\n",
       " 'dsgdb9nsd_000859',\n",
       " 'dsgdb9nsd_000860',\n",
       " 'dsgdb9nsd_000861',\n",
       " 'dsgdb9nsd_000862',\n",
       " 'dsgdb9nsd_000863',\n",
       " 'dsgdb9nsd_000864',\n",
       " 'dsgdb9nsd_000865',\n",
       " 'dsgdb9nsd_000866',\n",
       " 'dsgdb9nsd_000867',\n",
       " 'dsgdb9nsd_000868',\n",
       " 'dsgdb9nsd_000869',\n",
       " 'dsgdb9nsd_000870',\n",
       " 'dsgdb9nsd_000871',\n",
       " 'dsgdb9nsd_000872',\n",
       " 'dsgdb9nsd_000873',\n",
       " 'dsgdb9nsd_000874',\n",
       " 'dsgdb9nsd_000875',\n",
       " 'dsgdb9nsd_000876',\n",
       " 'dsgdb9nsd_000877',\n",
       " 'dsgdb9nsd_000878',\n",
       " 'dsgdb9nsd_000879',\n",
       " 'dsgdb9nsd_000880',\n",
       " 'dsgdb9nsd_000882',\n",
       " 'dsgdb9nsd_000883',\n",
       " 'dsgdb9nsd_000886',\n",
       " 'dsgdb9nsd_000887',\n",
       " 'dsgdb9nsd_000889',\n",
       " 'dsgdb9nsd_000890',\n",
       " 'dsgdb9nsd_000892',\n",
       " 'dsgdb9nsd_000893',\n",
       " 'dsgdb9nsd_000895',\n",
       " 'dsgdb9nsd_000896',\n",
       " 'dsgdb9nsd_000899',\n",
       " 'dsgdb9nsd_000900',\n",
       " 'dsgdb9nsd_000901',\n",
       " 'dsgdb9nsd_000902',\n",
       " 'dsgdb9nsd_000903',\n",
       " 'dsgdb9nsd_000904',\n",
       " 'dsgdb9nsd_000905',\n",
       " 'dsgdb9nsd_000909',\n",
       " 'dsgdb9nsd_000910',\n",
       " 'dsgdb9nsd_000911',\n",
       " 'dsgdb9nsd_000912',\n",
       " 'dsgdb9nsd_000913',\n",
       " 'dsgdb9nsd_000915',\n",
       " 'dsgdb9nsd_000916',\n",
       " 'dsgdb9nsd_000917',\n",
       " 'dsgdb9nsd_000918',\n",
       " 'dsgdb9nsd_000919',\n",
       " 'dsgdb9nsd_000920',\n",
       " 'dsgdb9nsd_000921',\n",
       " 'dsgdb9nsd_000922',\n",
       " 'dsgdb9nsd_000923',\n",
       " 'dsgdb9nsd_000924',\n",
       " 'dsgdb9nsd_000925',\n",
       " 'dsgdb9nsd_000926',\n",
       " 'dsgdb9nsd_000927',\n",
       " 'dsgdb9nsd_000928',\n",
       " 'dsgdb9nsd_000929',\n",
       " 'dsgdb9nsd_000930',\n",
       " 'dsgdb9nsd_000931',\n",
       " 'dsgdb9nsd_000932',\n",
       " 'dsgdb9nsd_000933',\n",
       " 'dsgdb9nsd_000934',\n",
       " 'dsgdb9nsd_000935',\n",
       " 'dsgdb9nsd_000936',\n",
       " 'dsgdb9nsd_000937',\n",
       " 'dsgdb9nsd_000938',\n",
       " 'dsgdb9nsd_000939',\n",
       " 'dsgdb9nsd_000940',\n",
       " 'dsgdb9nsd_000941',\n",
       " 'dsgdb9nsd_000942',\n",
       " 'dsgdb9nsd_000943',\n",
       " 'dsgdb9nsd_000944',\n",
       " 'dsgdb9nsd_000945',\n",
       " 'dsgdb9nsd_000946',\n",
       " 'dsgdb9nsd_000947',\n",
       " 'dsgdb9nsd_000948',\n",
       " 'dsgdb9nsd_000949',\n",
       " 'dsgdb9nsd_000950',\n",
       " 'dsgdb9nsd_000951',\n",
       " 'dsgdb9nsd_000952',\n",
       " 'dsgdb9nsd_000953',\n",
       " 'dsgdb9nsd_000954',\n",
       " 'dsgdb9nsd_000955',\n",
       " 'dsgdb9nsd_000956',\n",
       " 'dsgdb9nsd_000957',\n",
       " 'dsgdb9nsd_000958',\n",
       " 'dsgdb9nsd_000959',\n",
       " 'dsgdb9nsd_000960',\n",
       " 'dsgdb9nsd_000961',\n",
       " 'dsgdb9nsd_000962',\n",
       " 'dsgdb9nsd_000963',\n",
       " 'dsgdb9nsd_000964',\n",
       " 'dsgdb9nsd_000965',\n",
       " 'dsgdb9nsd_000966',\n",
       " 'dsgdb9nsd_000967',\n",
       " 'dsgdb9nsd_000968',\n",
       " 'dsgdb9nsd_000969',\n",
       " 'dsgdb9nsd_000970',\n",
       " 'dsgdb9nsd_000971',\n",
       " 'dsgdb9nsd_000972',\n",
       " 'dsgdb9nsd_000973',\n",
       " 'dsgdb9nsd_000974',\n",
       " 'dsgdb9nsd_000975',\n",
       " 'dsgdb9nsd_000976',\n",
       " 'dsgdb9nsd_000977',\n",
       " 'dsgdb9nsd_000978',\n",
       " 'dsgdb9nsd_000979',\n",
       " 'dsgdb9nsd_000980',\n",
       " 'dsgdb9nsd_000981',\n",
       " 'dsgdb9nsd_000982',\n",
       " 'dsgdb9nsd_000983',\n",
       " 'dsgdb9nsd_000984',\n",
       " 'dsgdb9nsd_000985',\n",
       " 'dsgdb9nsd_000986',\n",
       " 'dsgdb9nsd_000987',\n",
       " 'dsgdb9nsd_000988',\n",
       " 'dsgdb9nsd_000989',\n",
       " 'dsgdb9nsd_000990',\n",
       " 'dsgdb9nsd_000991',\n",
       " 'dsgdb9nsd_000992',\n",
       " 'dsgdb9nsd_000993',\n",
       " 'dsgdb9nsd_000994',\n",
       " 'dsgdb9nsd_000995',\n",
       " 'dsgdb9nsd_000996',\n",
       " 'dsgdb9nsd_000997',\n",
       " 'dsgdb9nsd_000998',\n",
       " 'dsgdb9nsd_000999',\n",
       " 'dsgdb9nsd_001000',\n",
       " 'dsgdb9nsd_001001',\n",
       " 'dsgdb9nsd_001002',\n",
       " 'dsgdb9nsd_001004',\n",
       " 'dsgdb9nsd_001005',\n",
       " 'dsgdb9nsd_001006',\n",
       " 'dsgdb9nsd_001007',\n",
       " 'dsgdb9nsd_001008',\n",
       " 'dsgdb9nsd_001009',\n",
       " 'dsgdb9nsd_001010',\n",
       " 'dsgdb9nsd_001011',\n",
       " 'dsgdb9nsd_001012',\n",
       " 'dsgdb9nsd_001013',\n",
       " 'dsgdb9nsd_001014',\n",
       " 'dsgdb9nsd_001015',\n",
       " 'dsgdb9nsd_001016',\n",
       " 'dsgdb9nsd_001017',\n",
       " 'dsgdb9nsd_001018',\n",
       " 'dsgdb9nsd_001019',\n",
       " 'dsgdb9nsd_001020',\n",
       " 'dsgdb9nsd_001021',\n",
       " 'dsgdb9nsd_001022',\n",
       " 'dsgdb9nsd_001023',\n",
       " 'dsgdb9nsd_001024',\n",
       " 'dsgdb9nsd_001025',\n",
       " 'dsgdb9nsd_001026',\n",
       " 'dsgdb9nsd_001027',\n",
       " 'dsgdb9nsd_001028',\n",
       " 'dsgdb9nsd_001029',\n",
       " 'dsgdb9nsd_001030',\n",
       " 'dsgdb9nsd_001031',\n",
       " 'dsgdb9nsd_001032',\n",
       " 'dsgdb9nsd_001033',\n",
       " 'dsgdb9nsd_001034',\n",
       " ...]"
      ]
     },
     "execution_count": 198,
     "metadata": {},
     "output_type": "execute_result"
    }
   ],
   "source": [
    "list(structures['molecule_name'].unique())"
   ]
  },
  {
   "cell_type": "code",
   "execution_count": null,
   "metadata": {},
   "outputs": [],
   "source": []
  }
 ],
 "metadata": {
  "kernelspec": {
   "display_name": "Python 3",
   "language": "python",
   "name": "python3"
  },
  "language_info": {
   "codemirror_mode": {
    "name": "ipython",
    "version": 3
   },
   "file_extension": ".py",
   "mimetype": "text/x-python",
   "name": "python",
   "nbconvert_exporter": "python",
   "pygments_lexer": "ipython3",
   "version": "3.7.3"
  }
 },
 "nbformat": 4,
 "nbformat_minor": 2
}
