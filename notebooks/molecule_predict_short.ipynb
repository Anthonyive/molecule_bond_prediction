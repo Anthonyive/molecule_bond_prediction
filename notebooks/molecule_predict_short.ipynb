{
 "cells": [
  {
   "cell_type": "markdown",
   "metadata": {},
   "source": [
    "## Imports"
   ]
  },
  {
   "cell_type": "code",
   "execution_count": 1,
   "metadata": {},
   "outputs": [],
   "source": [
    "import os, sys, random\n",
    "import pickle\n",
    "sys.path.append('..')\n",
    "from dataset_creation import *\n",
    "from sklearn.neural_network import MLPRegressor"
   ]
  },
  {
   "cell_type": "markdown",
   "metadata": {},
   "source": [
    "## Data Import "
   ]
  },
  {
   "cell_type": "code",
   "execution_count": 2,
   "metadata": {},
   "outputs": [],
   "source": [
    "# Feature creation done in file named 'feature_creation.py'\n",
    "X = pd.read_pickle('../X_1.pickle')\n",
    "y = pd.read_pickle('../y_1.pickle')\n",
    "\n",
    "file_folder = '../data/champs-scalar-coupling' if 'champs-scalar-coupling' in os.listdir('../data/') else '../data'\n",
    "os.listdir(file_folder)\n",
    "\n",
    "train = pd.read_csv(f'{file_folder}/train.csv')\n",
    "test = pd.read_csv(f'{file_folder}/test.csv')\n",
    "sub = pd.read_csv(f'{file_folder}/sample_submission.csv')\n",
    "structures = pd.read_csv(f'{file_folder}/structures.csv')\n",
    "contributions = pd.read_csv((f'{file_folder}/scalar_coupling_contributions.csv'))"
   ]
  },
  {
   "cell_type": "markdown",
   "metadata": {},
   "source": [
    "## Feature Selection"
   ]
  },
  {
   "cell_type": "code",
   "execution_count": 3,
   "metadata": {},
   "outputs": [
    {
     "data": {
      "text/plain": [
       "Index(['type', 'atom_0', 'x_0', 'y_0', 'z_0', 'atom_1', 'x_1', 'y_1', 'z_1',\n",
       "       'dist', 'dist_x', 'dist_y', 'dist_z', 'type_0', 'type_1',\n",
       "       'dist_to_type_mean', 'dist_to_type_0_mean', 'dist_to_type_1_mean',\n",
       "       'molecule_type_dist_mean', 'num_tda_1', 'time_tda_0', 'time_tda_1',\n",
       "       'amp_tda', 'graph_lifetime_1', 'graph_amplitude_1'],\n",
       "      dtype='object')"
      ]
     },
     "execution_count": 3,
     "metadata": {},
     "output_type": "execute_result"
    }
   ],
   "source": [
    "X.drop(['graph_holes_1', 'graph_holes_0'], axis='columns', inplace=True)\n",
    "X.columns"
   ]
  },
  {
   "cell_type": "markdown",
   "metadata": {},
   "source": [
    "## Model 1"
   ]
  },
  {
   "cell_type": "code",
   "execution_count": 5,
   "metadata": {},
   "outputs": [
    {
     "name": "stdout",
     "output_type": "stream",
     "text": [
      "0.35374798154172415\n",
      "0.3847089619816249\n",
      "0.4367424097888234\n",
      "0.41062668721198736\n",
      "0.3372724901584732\n",
      "0.38461970613652663 0.036298676305397626\n"
     ]
    }
   ],
   "source": [
    "params = {'num_leaves': 128,\n",
    "          'min_child_samples': 79,\n",
    "          'objective': 'reg:squarederror',\n",
    "          'max_depth': 13,\n",
    "          'learning_rate': 0.1,\n",
    "          \"subsample_freq\": 1,\n",
    "          \"subsample\": 0.9,\n",
    "          \"bagging_seed\": 11,\n",
    "          \"metric\": 'mae',\n",
    "          \"verbosity\": 1,\n",
    "          'reg_alpha': 0.1,\n",
    "          'reg_lambda': 0.3,\n",
    "          'colsample_bytree': 1.0\n",
    "         }\n",
    "\n",
    "model = XGBRegressor(**params)\n",
    "# model = RandomForestRegressor()\n",
    "#model = MLPRegressor(max_iter=300)\n",
    "\n",
    "\n",
    "\n",
    "\n",
    "n_fold = 5\n",
    "folds = KFold(n_splits=n_fold, shuffle=True, random_state=873)\n",
    "\n",
    "results = []\n",
    "\n",
    "y_split = []\n",
    "\n",
    "for fold_n, (train_index, valid_index) in enumerate(folds.split(X)):\n",
    "    \n",
    "    X_train, X_valid = X.iloc[train_index], X.iloc[valid_index]\n",
    "    y_train, y_valid = y.iloc[train_index], y.iloc[valid_index]\n",
    "    model.fit(X_train, y_train)\n",
    "    y_pred = model.predict(X_valid)\n",
    "    print(group_mean_log_mae(y_pred, y_valid, X_valid['type']))\n",
    "    results.append(group_mean_log_mae(y_pred, y_valid, X_valid['type']))\n",
    "    y_split.append(y_valid)\n",
    "    \n",
    "print(np.mean(results), np.std(results))"
   ]
  },
  {
   "cell_type": "markdown",
   "metadata": {},
   "source": [
    "## Model 2"
   ]
  },
  {
   "cell_type": "code",
   "execution_count": 17,
   "metadata": {},
   "outputs": [],
   "source": [
    "def get_number_of_atoms(g):\n",
    "    return len(g)\n",
    "molecule_selection = train.groupby(by='molecule_name').apply(get_number_of_atoms).nlargest(100)"
   ]
  },
  {
   "cell_type": "code",
   "execution_count": 18,
   "metadata": {},
   "outputs": [],
   "source": [
    "# Import \n",
    "train_dist = pd.read_csv('/Users/colinkalin/Desktop/train_dist.csv')"
   ]
  },
  {
   "cell_type": "code",
   "execution_count": 19,
   "metadata": {},
   "outputs": [],
   "source": [
    "X = train_dist[train_dist['molecule_name'].isin(molecule_selection.index)].reset_index()\n",
    "y = X['scalar_coupling_constant']\n",
    "molecules = X['molecule_name'].values\n",
    "X.drop(['id', 'molecule_name', 'scalar_coupling_constant'], axis='columns', inplace=True)\n",
    "\n",
    "\n",
    "lenc = LabelEncoder()\n",
    "lenc.fit(X['atom_1'])\n",
    "X['atom_0'] = lenc.transform(X['atom_0'])\n",
    "X['atom_1'] = lenc.transform(X['atom_1'])\n",
    "\n",
    "X.drop('index', axis='columns', inplace=True)"
   ]
  },
  {
   "cell_type": "code",
   "execution_count": 20,
   "metadata": {},
   "outputs": [],
   "source": [
    "# TDA features here\n",
    "with open('num_rel_holes_0_dict.pickle', 'rb') as f:\n",
    "    num_rel_holes_0_dict = pickle.load(f)\n",
    "with open('num_rel_holes_1_dict.pickle', 'rb') as f:\n",
    "    num_rel_holes_1_dict = pickle.load(f)\n",
    "with open('num_rel_holes_2_dict.pickle', 'rb') as f:\n",
    "    num_rel_holes_2_dict = pickle.load(f)\n",
    "with open('num_holes_0_dict.pickle', 'rb') as f:\n",
    "    num_holes_0_dict = pickle.load(f)\n",
    "with open('num_holes_1_dict.pickle', 'rb') as f:\n",
    "    num_holes_1_dict = pickle.load(f)\n",
    "with open('num_holes_2_dict.pickle', 'rb') as f:\n",
    "    num_holes_2_dict = pickle.load(f)\n",
    "with open('avg_lifetime_0_dict.pickle', 'rb') as f:\n",
    "    avg_lifetime_0_dict = pickle.load(f)    \n",
    "with open('avg_lifetime_1_dict.pickle', 'rb') as f:\n",
    "    avg_lifetime_1_dict = pickle.load(f)  \n",
    "with open('avg_lifetime_2_dict.pickle', 'rb') as f:\n",
    "    avg_lifetime_2_dict = pickle.load(f)  \n",
    "with open('amplitude_dict.pickle', 'rb') as f:\n",
    "    amplitude_dict = pickle.load(f)\n",
    "    \n",
    "num_rel_holes_0 = [num_rel_holes_0_dict[m] for m in molecules]\n",
    "num_rel_holes_1 = [num_rel_holes_1_dict[m] for m in molecules]\n",
    "num_rel_holes_2 = [num_rel_holes_2_dict[m] for m in molecules]\n",
    "num_holes_0 = [num_holes_0_dict[m] for m in molecules]\n",
    "num_holes_1 = [num_holes_1_dict[m] for m in molecules]\n",
    "num_holes_2 = [num_holes_2_dict[m] for m in molecules]\n",
    "avg_lifetime_0 = [avg_lifetime_0_dict[m] for m in molecules]\n",
    "avg_lifetime_1 = [avg_lifetime_1_dict[m] for m in molecules]\n",
    "avg_lifetime_2 = [avg_lifetime_2_dict[m] for m in molecules]\n",
    "amplitude = [amplitude_dict[m] for m in molecules]"
   ]
  },
  {
   "cell_type": "code",
   "execution_count": 21,
   "metadata": {},
   "outputs": [],
   "source": [
    "# TDA features here\n",
    "with open('num_rel_holes_0_graph_dict.pickle', 'rb') as f:\n",
    "    num_rel_holes_0_graph_dict = pickle.load(f)\n",
    "with open('num_rel_holes_1_graph_dict.pickle', 'rb') as f:\n",
    "    num_rel_holes_1_graph_dict = pickle.load(f)\n",
    "with open('num_rel_holes_2_graph_dict.pickle', 'rb') as f:\n",
    "    num_rel_holes_2_graph_dict = pickle.load(f)\n",
    "with open('num_holes_0_graph_dict.pickle', 'rb') as f:\n",
    "    num_holes_0_graph_dict = pickle.load(f)\n",
    "with open('num_holes_1_graph_dict.pickle', 'rb') as f:\n",
    "    num_holes_1_graph_dict = pickle.load(f)\n",
    "with open('num_holes_2_graph_dict.pickle', 'rb') as f:\n",
    "    num_holes_2_graph_dict = pickle.load(f)\n",
    "with open('avg_lifetime_0_graph_dict.pickle', 'rb') as f:\n",
    "    avg_lifetime_0_graph_dict = pickle.load(f)    \n",
    "with open('avg_lifetime_1_graph_dict.pickle', 'rb') as f:\n",
    "    avg_lifetime_1_graph_dict = pickle.load(f)  \n",
    "with open('avg_lifetime_2_graph_dict.pickle', 'rb') as f:\n",
    "    avg_lifetime_2_graph_dict = pickle.load(f)  \n",
    "with open('amplitude_graph_dict.pickle', 'rb') as f:\n",
    "    amplitude_graph_dict = pickle.load(f)\n",
    "    \n",
    "num_rel_holes_0_graph = [num_rel_holes_0_graph_dict[m] for m in molecules]\n",
    "num_rel_holes_1_graph = [num_rel_holes_1_graph_dict[m] for m in molecules]\n",
    "num_rel_holes_2_graph = [num_rel_holes_2_graph_dict[m] for m in molecules]\n",
    "num_holes_0_graph = [num_holes_0_graph_dict[m] for m in molecules]\n",
    "num_holes_1_graph = [num_holes_1_graph_dict[m] for m in molecules]\n",
    "num_holes_2_graph = [num_holes_2_graph_dict[m] for m in molecules]\n",
    "avg_lifetime_0_graph = [avg_lifetime_0_graph_dict[m] for m in molecules]\n",
    "avg_lifetime_1_graph = [avg_lifetime_1_graph_dict[m] for m in molecules]\n",
    "avg_lifetime_2_graph = [avg_lifetime_2_graph_dict[m] for m in molecules]\n",
    "amplitude_graph = [amplitude_graph_dict[m] for m in molecules]"
   ]
  },
  {
   "cell_type": "code",
   "execution_count": 22,
   "metadata": {},
   "outputs": [],
   "source": [
    "X['num_rel_holes_0'] = num_rel_holes_0\n",
    "X['num_rel_holes_1'] = num_rel_holes_1\n",
    "X['num_rel_holes_2'] = num_rel_holes_2\n",
    "X['num_holes_0'] = num_holes_0\n",
    "X['num_holes_1'] = num_holes_1\n",
    "X['num_holes_2'] = num_holes_2\n",
    "X['avg_lifetime_0'] = avg_lifetime_0\n",
    "X['avg_lifetime_1'] = avg_lifetime_1\n",
    "X['avg_lifetime_2'] = avg_lifetime_2\n",
    "X['amplitude'] = amplitude"
   ]
  },
  {
   "cell_type": "code",
   "execution_count": 23,
   "metadata": {},
   "outputs": [],
   "source": [
    "X['num_rel_holes_0_graph'] = num_rel_holes_0_graph\n",
    "X['num_rel_holes_1_graph'] = num_rel_holes_1_graph\n",
    "X['num_rel_holes_2_graph'] = num_rel_holes_2_graph\n",
    "X['num_holes_0_graph'] = num_holes_0_graph\n",
    "X['num_holes_1_graph'] = num_holes_1_graph\n",
    "X['num_holes_2_graph'] = num_holes_2_graph\n",
    "X['avg_lifetime_0_graph'] = avg_lifetime_0_graph\n",
    "X['avg_lifetime_1_graph'] = avg_lifetime_1_graph\n",
    "X['avg_lifetime_2_graph'] = avg_lifetime_2_graph\n",
    "X['amplitude_graph'] = amplitude_graph"
   ]
  },
  {
   "cell_type": "code",
   "execution_count": 35,
   "metadata": {},
   "outputs": [],
   "source": [
    "non_TDA_features = ['atom_index_0', 'atom_index_1', 'type', 'type_0', 'type_1', 'atom_0',\n",
    "'x_0', 'y_0', 'z_0', 'atom_1', 'x_1', 'y_1', 'z_1', \n",
    " 'dist', 'dist_x', 'dist_y', 'dist_z', 'dist_to_type_mean', 'dist_to_type_0_mean', 'dist_to_type_1_mean', \n",
    " 'molecule_dist_mean_x', 'molecule_dist_std_x','molecule_dist_skew_x', 'molecule_dist_kurt_x', \n",
    " 'molecule_dist_mean_y', 'molecule_dist_std_y', 'molecule_dist_skew_y', 'molecule_dist_kurt_y',\n",
    " 'meanx', 'meany', 'meanz', 'dist_0tomean', 'dist_1tomean', 'meanxH', 'meanyH', 'meanzH', \n",
    " 'dist_0tomeanH', 'dist_1tomeanH', 'meanxC','meanyC', 'meanzC', \n",
    " 'dist_0tomeanC', 'dist_1tomeanC', 'meanxN',\n",
    " 'meanyN', 'meanzN', 'dist_0tomeanN', 'dist_1tomeanN', \n",
    " 'meanxO', 'meanyO', 'meanzO', 'dist_0tomeanO', 'dist_1tomeanO', \n",
    " 'meanxF', 'meanyF', 'meanzF', 'dist_0tomeanF', 'dist_1tomeanF', \n",
    " 'atom_count', 'atom_0l', 'x_0l', 'y_0l', 'z_0l', 'atom_0r', 'x_0r', 'y_0r', 'z_0r',\n",
    " 'dist_0l', 'dist_0r', 'atom_1l', 'x_1l', 'y_1l', 'z_1l', 'atom_1r',\n",
    " 'x_1r', 'y_1r', 'z_1r', 'dist_1l', 'dist_1r']\n",
    "\n",
    "X = X[non_TDA_features]"
   ]
  },
  {
   "cell_type": "code",
   "execution_count": 14,
   "metadata": {},
   "outputs": [],
   "source": [
    "X_tda = pd.DataFrame(np.array([num_rel_holes_0_graph, num_rel_holes_1_graph, num_rel_holes_2_graph, \n",
    " num_holes_0_graph, num_holes_1_graph, num_holes_2_graph, \n",
    " avg_lifetime_0_graph, avg_lifetime_1_graph, avg_lifetime_2_graph,\n",
    " amplitude_graph, X['type']])).T\n",
    "X_tda.rename({10: 'type'}, axis='columns', inplace=True)"
   ]
  },
  {
   "cell_type": "code",
   "execution_count": 37,
   "metadata": {},
   "outputs": [
    {
     "name": "stdout",
     "output_type": "stream",
     "text": [
      "-0.8173199311217243\n",
      "-0.8107223391887406\n",
      "-0.8117671979759379\n",
      "-0.8009847160959573\n",
      "-0.8116358337127775\n",
      "-0.8104860036190276 0.00529143557901536\n"
     ]
    }
   ],
   "source": [
    "params = {'num_leaves': 128,\n",
    "          'min_child_samples': 79,\n",
    "          'objective': 'reg:squarederror',\n",
    "          'max_depth': 13,\n",
    "          'learning_rate': 0.1,\n",
    "          \"subsample_freq\": 1,\n",
    "          \"subsample\": 0.9,\n",
    "          \"bagging_seed\": 11,\n",
    "          \"metric\": 'mae',\n",
    "          \"verbosity\": 1,\n",
    "          'reg_alpha': 0.1,\n",
    "          'reg_lambda': 0.3,\n",
    "          'colsample_bytree': 1.0\n",
    "         }\n",
    "\n",
    "\n",
    "model = XGBRegressor(**params)\n",
    "\n",
    "n_fold = 5\n",
    "folds = KFold(n_splits=n_fold, shuffle=True, random_state=873)\n",
    "\n",
    "results = []\n",
    "diff = []\n",
    "\n",
    "for fold_n, (train_index, valid_index) in enumerate(folds.split(X)):\n",
    "    \n",
    "    X_train, X_valid = X.iloc[train_index], X.iloc[valid_index]\n",
    "    y_train, y_valid = y.iloc[train_index], y.iloc[valid_index]\n",
    "    model.fit(X_train, y_train)\n",
    "    y_pred = model.predict(X_valid)\n",
    "    diff_fold = y_pred - y_valid\n",
    "    diff.append(diff_fold)\n",
    "    print(group_mean_log_mae(y_pred, y_valid, X_valid['type']))\n",
    "    results.append(group_mean_log_mae(y_pred, y_valid, X_valid['type']))\n",
    "    \n",
    "print(np.mean(results), np.std(results))"
   ]
  },
  {
   "cell_type": "code",
   "execution_count": 39,
   "metadata": {},
   "outputs": [
    {
     "data": {
      "text/plain": [
       "-0.8157774391980429"
      ]
     },
     "execution_count": 39,
     "metadata": {},
     "output_type": "execute_result"
    }
   ],
   "source": [
    "-0.8104860036190276 - 0.00529143557901536"
   ]
  },
  {
   "cell_type": "code",
   "execution_count": 40,
   "metadata": {},
   "outputs": [
    {
     "data": {
      "text/plain": [
       "-0.8106439560936124"
      ]
     },
     "execution_count": 40,
     "metadata": {},
     "output_type": "execute_result"
    }
   ],
   "source": [
    "-0.8388410252159714\n",
    "-0.8142178048923159\n",
    "-0.8506912642797347\n",
    "-0.8165627035027028\n",
    "-0.8111197037615783\n",
    "-0.8262865003304606+0.015642544236848233"
   ]
  },
  {
   "cell_type": "raw",
   "metadata": {},
   "source": [
    "# Witout TDA with 5-fold CV\n",
    "-0.8227039877117939\n",
    "-0.8731179430381525\n",
    "-0.834635523688331\n",
    "-0.7536559896267269\n",
    "-0.7535808998791302\n",
    "'Mean and std' -0.807538868788827 0.047073669059775614\n",
    "\n",
    "\n",
    "# With TDA with 5-fold CV\n",
    "-0.8242709208521882\n",
    "-0.87922049117097\n",
    "-0.8358006447777443\n",
    "-0.7731965425869257\n",
    "-0.8015301524755871\n",
    "'Mean and std' -0.8228037503726832 0.03540441081978337"
   ]
  },
  {
   "cell_type": "code",
   "execution_count": 59,
   "metadata": {},
   "outputs": [
    {
     "data": {
      "text/plain": [
       "<matplotlib.axes._subplots.AxesSubplot at 0x1a342b44e0>"
      ]
     },
     "execution_count": 59,
     "metadata": {},
     "output_type": "execute_result"
    },
    {
     "data": {
      "image/png": "[encoded data removed]",
      "text/plain": [
       "<Figure size 432x288 with 1 Axes>"
      ]
     },
     "metadata": {
      "needs_background": "light"
     },
     "output_type": "display_data"
    }
   ],
   "source": [
    "sns.distplot(np.abs(diff[2]))\n",
    "sns.distplot(np.abs(diff[1]))"
   ]
  },
  {
   "cell_type": "code",
   "execution_count": 62,
   "metadata": {},
   "outputs": [
    {
     "data": {
      "text/plain": [
       "<matplotlib.axes._subplots.AxesSubplot at 0x1a333ad470>"
      ]
     },
     "execution_count": 62,
     "metadata": {},
     "output_type": "execute_result"
    },
    {
     "data": {
      "image/png": "[encoded data removed]",
      "text/plain": [
       "<Figure size 432x288 with 1 Axes>"
      ]
     },
     "metadata": {
      "needs_background": "light"
     },
     "output_type": "display_data"
    }
   ],
   "source": [
    "plot_importance(model)"
   ]
  },
  {
   "cell_type": "code",
   "execution_count": 64,
   "metadata": {},
   "outputs": [
    {
     "data": {
      "text/plain": [
       "[[0.0, 1.0, 2.0], [3.0, 4.0, 5.0], [6.0, 7.0, 8.0]]"
      ]
     },
     "execution_count": 64,
     "metadata": {},
     "output_type": "execute_result"
    }
   ],
   "source": [
    "x = np.arange(9.0)\n"
   ]
  },
  {
   "cell_type": "code",
   "execution_count": 65,
   "metadata": {},
   "outputs": [
    {
     "data": {
      "text/plain": [
       "0.001"
      ]
     },
     "execution_count": 65,
     "metadata": {},
     "output_type": "execute_result"
    }
   ],
   "source": [
    "1e-3"
   ]
  },
  {
   "cell_type": "code",
   "execution_count": 71,
   "metadata": {},
   "outputs": [
    {
     "data": {
      "text/plain": [
       "array([ 0.        ,  1.11111111,  2.22222222,  3.33333333,  4.44444444,\n",
       "        5.55555556,  6.66666667,  7.77777778,  8.88888889, 10.        ])"
      ]
     },
     "execution_count": 71,
     "metadata": {},
     "output_type": "execute_result"
    }
   ],
   "source": [
    "np.linspace(0,10, 10)"
   ]
  },
  {
   "cell_type": "code",
   "execution_count": null,
   "metadata": {},
   "outputs": [],
   "source": []
  }
 ],
 "metadata": {
  "kernelspec": {
   "display_name": "Python 3",
   "language": "python",
   "name": "python3"
  },
  "language_info": {
   "codemirror_mode": {
    "name": "ipython",
    "version": 3
   },
   "file_extension": ".py",
   "mimetype": "text/x-python",
   "name": "python",
   "nbconvert_exporter": "python",
   "pygments_lexer": "ipython3",
   "version": "3.7.3"
  }
 },
 "nbformat": 4,
 "nbformat_minor": 2
}
